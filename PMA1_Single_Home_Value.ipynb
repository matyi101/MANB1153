{
  "nbformat": 4,
  "nbformat_minor": 0,
  "metadata": {
    "colab": {
      "name": "PMA1 - Single Home Value.ipynb",
      "provenance": [],
      "authorship_tag": "ABX9TyOwClREfYfE3Gh1uEJM2seA",
      "include_colab_link": true
    },
    "kernelspec": {
      "name": "python3",
      "display_name": "Python 3"
    },
    "language_info": {
      "name": "python"
    }
  },
  "cells": [
    {
      "cell_type": "markdown",
      "metadata": {
        "id": "view-in-github",
        "colab_type": "text"
      },
      "source": [
        "<a href=\"https://colab.research.google.com/github/matyi101/MANB1153/blob/main/PMA1_Single_Home_Value.ipynb\" target=\"_parent\"><img src=\"https://colab.research.google.com/assets/colab-badge.svg\" alt=\"Open In Colab\"/></a>"
      ]
    },
    {
      "cell_type": "markdown",
      "source": [
        "## **POST MODULE ASSESSMENT SEMESTER 1 (SESSIOn 2021/2022)**\n",
        "## **MANB 1153 - DATA MINING AND BUSINESS ANALYTICS**\n",
        "### MOHD NAZRI BIN NAWI (MAN201071)"
      ],
      "metadata": {
        "id": "oMa0Gn0-9cL3"
      }
    },
    {
      "cell_type": "markdown",
      "source": [
        "## 1. Loading libraries and packages."
      ],
      "metadata": {
        "id": "1Rrx8cU_DN7A"
      }
    },
    {
      "cell_type": "code",
      "execution_count": 1,
      "metadata": {
        "id": "th3mIsDu8B_q"
      },
      "outputs": [],
      "source": [
        "import pandas as pd \n",
        "import seaborn as sns \n",
        "import numpy as np \n",
        "import matplotlib.pyplot as plt  \n",
        "\n",
        "%matplotlib  inline "
      ]
    },
    {
      "cell_type": "markdown",
      "source": [
        "## 2. Load data"
      ],
      "metadata": {
        "id": "udvd-LYiDXk6"
      }
    },
    {
      "cell_type": "code",
      "source": [
        "# Data from kaggle is downloaded and then uploaded to github. URL linked is used to read data from Github.\n",
        "# Data URL link https://www.kaggle.com/kylet550/single-family-home-values-by-city (Source: Zillow Home Value Index (ZHVI)).\n",
        "url = 'https://raw.githubusercontent.com/matyi101/dataset/main/single_family_home_values.csv'\n",
        "df = pd.read_csv(url)\n",
        "df.head()"
      ],
      "metadata": {
        "colab": {
          "base_uri": "https://localhost:8080/",
          "height": 267
        },
        "id": "hbhKEkbQ8LTn",
        "outputId": "3a9f90be-631a-4bf2-c5b5-d8f9f543c77d"
      },
      "execution_count": 2,
      "outputs": [
        {
          "output_type": "execute_result",
          "data": {
            "text/html": [
              "\n",
              "  <div id=\"df-d6375ff6-2124-49cf-be3a-99ed5e77b5fc\">\n",
              "    <div class=\"colab-df-container\">\n",
              "      <div>\n",
              "<style scoped>\n",
              "    .dataframe tbody tr th:only-of-type {\n",
              "        vertical-align: middle;\n",
              "    }\n",
              "\n",
              "    .dataframe tbody tr th {\n",
              "        vertical-align: top;\n",
              "    }\n",
              "\n",
              "    .dataframe thead th {\n",
              "        text-align: right;\n",
              "    }\n",
              "</style>\n",
              "<table border=\"1\" class=\"dataframe\">\n",
              "  <thead>\n",
              "    <tr style=\"text-align: right;\">\n",
              "      <th></th>\n",
              "      <th>id</th>\n",
              "      <th>address</th>\n",
              "      <th>city</th>\n",
              "      <th>state</th>\n",
              "      <th>zipcode</th>\n",
              "      <th>latitude</th>\n",
              "      <th>longitude</th>\n",
              "      <th>bedrooms</th>\n",
              "      <th>bathrooms</th>\n",
              "      <th>rooms</th>\n",
              "      <th>squareFootage</th>\n",
              "      <th>lotSize</th>\n",
              "      <th>yearBuilt</th>\n",
              "      <th>lastSaleDate</th>\n",
              "      <th>lastSaleAmount</th>\n",
              "      <th>priorSaleDate</th>\n",
              "      <th>priorSaleAmount</th>\n",
              "      <th>estimated_value</th>\n",
              "    </tr>\n",
              "  </thead>\n",
              "  <tbody>\n",
              "    <tr>\n",
              "      <th>0</th>\n",
              "      <td>39525749</td>\n",
              "      <td>8171 E 84th Ave</td>\n",
              "      <td>Denver</td>\n",
              "      <td>CO</td>\n",
              "      <td>80022</td>\n",
              "      <td>39.849160</td>\n",
              "      <td>-104.893468</td>\n",
              "      <td>3</td>\n",
              "      <td>2.0</td>\n",
              "      <td>6</td>\n",
              "      <td>1378</td>\n",
              "      <td>9968</td>\n",
              "      <td>2003.0</td>\n",
              "      <td>2009-12-17</td>\n",
              "      <td>75000</td>\n",
              "      <td>2004-05-13</td>\n",
              "      <td>165700.0</td>\n",
              "      <td>239753</td>\n",
              "    </tr>\n",
              "    <tr>\n",
              "      <th>1</th>\n",
              "      <td>184578398</td>\n",
              "      <td>10556 Wheeling St</td>\n",
              "      <td>Denver</td>\n",
              "      <td>CO</td>\n",
              "      <td>80022</td>\n",
              "      <td>39.888020</td>\n",
              "      <td>-104.830930</td>\n",
              "      <td>2</td>\n",
              "      <td>2.0</td>\n",
              "      <td>6</td>\n",
              "      <td>1653</td>\n",
              "      <td>6970</td>\n",
              "      <td>2004.0</td>\n",
              "      <td>2004-09-23</td>\n",
              "      <td>216935</td>\n",
              "      <td>NaN</td>\n",
              "      <td>NaN</td>\n",
              "      <td>343963</td>\n",
              "    </tr>\n",
              "    <tr>\n",
              "      <th>2</th>\n",
              "      <td>184430015</td>\n",
              "      <td>3190 Wadsworth Blvd</td>\n",
              "      <td>Denver</td>\n",
              "      <td>CO</td>\n",
              "      <td>80033</td>\n",
              "      <td>39.761710</td>\n",
              "      <td>-105.081070</td>\n",
              "      <td>3</td>\n",
              "      <td>1.0</td>\n",
              "      <td>0</td>\n",
              "      <td>1882</td>\n",
              "      <td>23875</td>\n",
              "      <td>1917.0</td>\n",
              "      <td>2008-04-03</td>\n",
              "      <td>330000</td>\n",
              "      <td>NaN</td>\n",
              "      <td>NaN</td>\n",
              "      <td>488840</td>\n",
              "    </tr>\n",
              "    <tr>\n",
              "      <th>3</th>\n",
              "      <td>155129946</td>\n",
              "      <td>3040 Wadsworth Blvd</td>\n",
              "      <td>Denver</td>\n",
              "      <td>CO</td>\n",
              "      <td>80033</td>\n",
              "      <td>39.760780</td>\n",
              "      <td>-105.081060</td>\n",
              "      <td>4</td>\n",
              "      <td>3.0</td>\n",
              "      <td>0</td>\n",
              "      <td>2400</td>\n",
              "      <td>11500</td>\n",
              "      <td>1956.0</td>\n",
              "      <td>2008-12-02</td>\n",
              "      <td>185000</td>\n",
              "      <td>2008-06-27</td>\n",
              "      <td>0.0</td>\n",
              "      <td>494073</td>\n",
              "    </tr>\n",
              "    <tr>\n",
              "      <th>4</th>\n",
              "      <td>245107</td>\n",
              "      <td>5615 S Eaton St</td>\n",
              "      <td>Denver</td>\n",
              "      <td>CO</td>\n",
              "      <td>80123</td>\n",
              "      <td>39.616181</td>\n",
              "      <td>-105.058812</td>\n",
              "      <td>3</td>\n",
              "      <td>4.0</td>\n",
              "      <td>8</td>\n",
              "      <td>2305</td>\n",
              "      <td>5600</td>\n",
              "      <td>1998.0</td>\n",
              "      <td>2012-07-18</td>\n",
              "      <td>308000</td>\n",
              "      <td>2011-12-29</td>\n",
              "      <td>0.0</td>\n",
              "      <td>513676</td>\n",
              "    </tr>\n",
              "  </tbody>\n",
              "</table>\n",
              "</div>\n",
              "      <button class=\"colab-df-convert\" onclick=\"convertToInteractive('df-d6375ff6-2124-49cf-be3a-99ed5e77b5fc')\"\n",
              "              title=\"Convert this dataframe to an interactive table.\"\n",
              "              style=\"display:none;\">\n",
              "        \n",
              "  <svg xmlns=\"http://www.w3.org/2000/svg\" height=\"24px\"viewBox=\"0 0 24 24\"\n",
              "       width=\"24px\">\n",
              "    <path d=\"M0 0h24v24H0V0z\" fill=\"none\"/>\n",
              "    <path d=\"M18.56 5.44l.94 2.06.94-2.06 2.06-.94-2.06-.94-.94-2.06-.94 2.06-2.06.94zm-11 1L8.5 8.5l.94-2.06 2.06-.94-2.06-.94L8.5 2.5l-.94 2.06-2.06.94zm10 10l.94 2.06.94-2.06 2.06-.94-2.06-.94-.94-2.06-.94 2.06-2.06.94z\"/><path d=\"M17.41 7.96l-1.37-1.37c-.4-.4-.92-.59-1.43-.59-.52 0-1.04.2-1.43.59L10.3 9.45l-7.72 7.72c-.78.78-.78 2.05 0 2.83L4 21.41c.39.39.9.59 1.41.59.51 0 1.02-.2 1.41-.59l7.78-7.78 2.81-2.81c.8-.78.8-2.07 0-2.86zM5.41 20L4 18.59l7.72-7.72 1.47 1.35L5.41 20z\"/>\n",
              "  </svg>\n",
              "      </button>\n",
              "      \n",
              "  <style>\n",
              "    .colab-df-container {\n",
              "      display:flex;\n",
              "      flex-wrap:wrap;\n",
              "      gap: 12px;\n",
              "    }\n",
              "\n",
              "    .colab-df-convert {\n",
              "      background-color: #E8F0FE;\n",
              "      border: none;\n",
              "      border-radius: 50%;\n",
              "      cursor: pointer;\n",
              "      display: none;\n",
              "      fill: #1967D2;\n",
              "      height: 32px;\n",
              "      padding: 0 0 0 0;\n",
              "      width: 32px;\n",
              "    }\n",
              "\n",
              "    .colab-df-convert:hover {\n",
              "      background-color: #E2EBFA;\n",
              "      box-shadow: 0px 1px 2px rgba(60, 64, 67, 0.3), 0px 1px 3px 1px rgba(60, 64, 67, 0.15);\n",
              "      fill: #174EA6;\n",
              "    }\n",
              "\n",
              "    [theme=dark] .colab-df-convert {\n",
              "      background-color: #3B4455;\n",
              "      fill: #D2E3FC;\n",
              "    }\n",
              "\n",
              "    [theme=dark] .colab-df-convert:hover {\n",
              "      background-color: #434B5C;\n",
              "      box-shadow: 0px 1px 3px 1px rgba(0, 0, 0, 0.15);\n",
              "      filter: drop-shadow(0px 1px 2px rgba(0, 0, 0, 0.3));\n",
              "      fill: #FFFFFF;\n",
              "    }\n",
              "  </style>\n",
              "\n",
              "      <script>\n",
              "        const buttonEl =\n",
              "          document.querySelector('#df-d6375ff6-2124-49cf-be3a-99ed5e77b5fc button.colab-df-convert');\n",
              "        buttonEl.style.display =\n",
              "          google.colab.kernel.accessAllowed ? 'block' : 'none';\n",
              "\n",
              "        async function convertToInteractive(key) {\n",
              "          const element = document.querySelector('#df-d6375ff6-2124-49cf-be3a-99ed5e77b5fc');\n",
              "          const dataTable =\n",
              "            await google.colab.kernel.invokeFunction('convertToInteractive',\n",
              "                                                     [key], {});\n",
              "          if (!dataTable) return;\n",
              "\n",
              "          const docLinkHtml = 'Like what you see? Visit the ' +\n",
              "            '<a target=\"_blank\" href=https://colab.research.google.com/notebooks/data_table.ipynb>data table notebook</a>'\n",
              "            + ' to learn more about interactive tables.';\n",
              "          element.innerHTML = '';\n",
              "          dataTable['output_type'] = 'display_data';\n",
              "          await google.colab.output.renderOutput(dataTable, element);\n",
              "          const docLink = document.createElement('div');\n",
              "          docLink.innerHTML = docLinkHtml;\n",
              "          element.appendChild(docLink);\n",
              "        }\n",
              "      </script>\n",
              "    </div>\n",
              "  </div>\n",
              "  "
            ],
            "text/plain": [
              "          id              address  ... priorSaleAmount estimated_value\n",
              "0   39525749      8171 E 84th Ave  ...        165700.0          239753\n",
              "1  184578398    10556 Wheeling St  ...             NaN          343963\n",
              "2  184430015  3190 Wadsworth Blvd  ...             NaN          488840\n",
              "3  155129946  3040 Wadsworth Blvd  ...             0.0          494073\n",
              "4     245107      5615 S Eaton St  ...             0.0          513676\n",
              "\n",
              "[5 rows x 18 columns]"
            ]
          },
          "metadata": {},
          "execution_count": 2
        },
        {
          "output_type": "stream",
          "name": "stdout",
          "text": [
            "Error: Runtime no longer has a reference to this dataframe, please re-run this cell and try again.\n"
          ]
        }
      ]
    },
    {
      "cell_type": "markdown",
      "source": [
        "## 3. Data Cleaning "
      ],
      "metadata": {
        "id": "r4ku_6zbDmSS"
      }
    },
    {
      "cell_type": "code",
      "source": [
        "# Checking shape of data\n",
        "\n",
        "df.shape"
      ],
      "metadata": {
        "colab": {
          "base_uri": "https://localhost:8080/"
        },
        "id": "ze66tkjR-Mu5",
        "outputId": "d741aad6-f89d-4622-f44d-71c748996aa0"
      },
      "execution_count": 3,
      "outputs": [
        {
          "output_type": "execute_result",
          "data": {
            "text/plain": [
              "(15000, 18)"
            ]
          },
          "metadata": {},
          "execution_count": 3
        }
      ]
    },
    {
      "cell_type": "code",
      "source": [
        "# Check for missing value from dataframe.\n",
        "df.info()"
      ],
      "metadata": {
        "colab": {
          "base_uri": "https://localhost:8080/"
        },
        "id": "Uolnz0Rz-Ri1",
        "outputId": "cd4c6e94-8b28-4125-b24f-1ae553b829dc"
      },
      "execution_count": 4,
      "outputs": [
        {
          "output_type": "stream",
          "name": "stdout",
          "text": [
            "<class 'pandas.core.frame.DataFrame'>\n",
            "RangeIndex: 15000 entries, 0 to 14999\n",
            "Data columns (total 18 columns):\n",
            " #   Column           Non-Null Count  Dtype  \n",
            "---  ------           --------------  -----  \n",
            " 0   id               15000 non-null  int64  \n",
            " 1   address          15000 non-null  object \n",
            " 2   city             15000 non-null  object \n",
            " 3   state            15000 non-null  object \n",
            " 4   zipcode          15000 non-null  int64  \n",
            " 5   latitude         14985 non-null  float64\n",
            " 6   longitude        14985 non-null  float64\n",
            " 7   bedrooms         15000 non-null  int64  \n",
            " 8   bathrooms        15000 non-null  float64\n",
            " 9   rooms            15000 non-null  int64  \n",
            " 10  squareFootage    15000 non-null  int64  \n",
            " 11  lotSize          15000 non-null  int64  \n",
            " 12  yearBuilt        14999 non-null  float64\n",
            " 13  lastSaleDate     15000 non-null  object \n",
            " 14  lastSaleAmount   15000 non-null  int64  \n",
            " 15  priorSaleDate    11173 non-null  object \n",
            " 16  priorSaleAmount  11287 non-null  float64\n",
            " 17  estimated_value  15000 non-null  int64  \n",
            "dtypes: float64(5), int64(8), object(5)\n",
            "memory usage: 2.1+ MB\n"
          ]
        }
      ]
    },
    {
      "cell_type": "code",
      "source": [
        "# From data above, there are missing values in latitute, longitude, yearBuilt, priorSalesDate and priorSateDate. \n",
        "# These missing value (NA) will be filled with mean value.\n",
        "\n",
        "df=df.fillna(df.mean())\n",
        "df.dropna(inplace=True) \n",
        "df.info()"
      ],
      "metadata": {
        "colab": {
          "base_uri": "https://localhost:8080/"
        },
        "id": "Td-GnrEn-aAS",
        "outputId": "601a86a7-60eb-4699-eba6-a1fdf07a8b78"
      },
      "execution_count": 5,
      "outputs": [
        {
          "output_type": "stream",
          "name": "stdout",
          "text": [
            "<class 'pandas.core.frame.DataFrame'>\n",
            "Int64Index: 11173 entries, 0 to 14999\n",
            "Data columns (total 18 columns):\n",
            " #   Column           Non-Null Count  Dtype  \n",
            "---  ------           --------------  -----  \n",
            " 0   id               11173 non-null  int64  \n",
            " 1   address          11173 non-null  object \n",
            " 2   city             11173 non-null  object \n",
            " 3   state            11173 non-null  object \n",
            " 4   zipcode          11173 non-null  int64  \n",
            " 5   latitude         11173 non-null  float64\n",
            " 6   longitude        11173 non-null  float64\n",
            " 7   bedrooms         11173 non-null  int64  \n",
            " 8   bathrooms        11173 non-null  float64\n",
            " 9   rooms            11173 non-null  int64  \n",
            " 10  squareFootage    11173 non-null  int64  \n",
            " 11  lotSize          11173 non-null  int64  \n",
            " 12  yearBuilt        11173 non-null  float64\n",
            " 13  lastSaleDate     11173 non-null  object \n",
            " 14  lastSaleAmount   11173 non-null  int64  \n",
            " 15  priorSaleDate    11173 non-null  object \n",
            " 16  priorSaleAmount  11173 non-null  float64\n",
            " 17  estimated_value  11173 non-null  int64  \n",
            "dtypes: float64(5), int64(8), object(5)\n",
            "memory usage: 1.6+ MB\n"
          ]
        }
      ]
    },
    {
      "cell_type": "markdown",
      "source": [
        "## 4. Exploratory Data Analysis (EDA)"
      ],
      "metadata": {
        "id": "W3gBovVk_Tor"
      }
    },
    {
      "cell_type": "code",
      "source": [
        "df.describe()"
      ],
      "metadata": {
        "colab": {
          "base_uri": "https://localhost:8080/",
          "height": 348
        },
        "id": "Fiibvse3AvR9",
        "outputId": "47fff6b3-8786-4c76-8d5c-b0156a2d6060"
      },
      "execution_count": 6,
      "outputs": [
        {
          "output_type": "execute_result",
          "data": {
            "text/html": [
              "\n",
              "  <div id=\"df-0a895f7f-a822-414c-bc17-56e062e5d65d\">\n",
              "    <div class=\"colab-df-container\">\n",
              "      <div>\n",
              "<style scoped>\n",
              "    .dataframe tbody tr th:only-of-type {\n",
              "        vertical-align: middle;\n",
              "    }\n",
              "\n",
              "    .dataframe tbody tr th {\n",
              "        vertical-align: top;\n",
              "    }\n",
              "\n",
              "    .dataframe thead th {\n",
              "        text-align: right;\n",
              "    }\n",
              "</style>\n",
              "<table border=\"1\" class=\"dataframe\">\n",
              "  <thead>\n",
              "    <tr style=\"text-align: right;\">\n",
              "      <th></th>\n",
              "      <th>id</th>\n",
              "      <th>zipcode</th>\n",
              "      <th>latitude</th>\n",
              "      <th>longitude</th>\n",
              "      <th>bedrooms</th>\n",
              "      <th>bathrooms</th>\n",
              "      <th>rooms</th>\n",
              "      <th>squareFootage</th>\n",
              "      <th>lotSize</th>\n",
              "      <th>yearBuilt</th>\n",
              "      <th>lastSaleAmount</th>\n",
              "      <th>priorSaleAmount</th>\n",
              "      <th>estimated_value</th>\n",
              "    </tr>\n",
              "  </thead>\n",
              "  <tbody>\n",
              "    <tr>\n",
              "      <th>count</th>\n",
              "      <td>1.117300e+04</td>\n",
              "      <td>11173.000000</td>\n",
              "      <td>11173.000000</td>\n",
              "      <td>11173.000000</td>\n",
              "      <td>11173.000000</td>\n",
              "      <td>11173.000000</td>\n",
              "      <td>11173.000000</td>\n",
              "      <td>11173.000000</td>\n",
              "      <td>11173.000000</td>\n",
              "      <td>11173.000000</td>\n",
              "      <td>1.117300e+04</td>\n",
              "      <td>1.117300e+04</td>\n",
              "      <td>1.117300e+04</td>\n",
              "    </tr>\n",
              "    <tr>\n",
              "      <th>mean</th>\n",
              "      <td>4.419642e+07</td>\n",
              "      <td>80205.002954</td>\n",
              "      <td>39.741310</td>\n",
              "      <td>-104.963570</td>\n",
              "      <td>2.682359</td>\n",
              "      <td>2.209031</td>\n",
              "      <td>6.116441</td>\n",
              "      <td>1481.227244</td>\n",
              "      <td>5685.553209</td>\n",
              "      <td>1929.062160</td>\n",
              "      <td>4.229467e+05</td>\n",
              "      <td>2.624790e+05</td>\n",
              "      <td>6.310055e+05</td>\n",
              "    </tr>\n",
              "    <tr>\n",
              "      <th>std</th>\n",
              "      <td>5.665783e+07</td>\n",
              "      <td>9.181246</td>\n",
              "      <td>0.023230</td>\n",
              "      <td>0.039600</td>\n",
              "      <td>0.878987</td>\n",
              "      <td>1.159730</td>\n",
              "      <td>1.933034</td>\n",
              "      <td>801.192486</td>\n",
              "      <td>2506.781712</td>\n",
              "      <td>29.796315</td>\n",
              "      <td>5.786213e+05</td>\n",
              "      <td>3.387000e+05</td>\n",
              "      <td>5.002564e+05</td>\n",
              "    </tr>\n",
              "    <tr>\n",
              "      <th>min</th>\n",
              "      <td>1.433670e+05</td>\n",
              "      <td>80022.000000</td>\n",
              "      <td>39.614539</td>\n",
              "      <td>-105.108407</td>\n",
              "      <td>0.000000</td>\n",
              "      <td>0.000000</td>\n",
              "      <td>0.000000</td>\n",
              "      <td>350.000000</td>\n",
              "      <td>278.000000</td>\n",
              "      <td>1874.000000</td>\n",
              "      <td>5.000000e+02</td>\n",
              "      <td>0.000000e+00</td>\n",
              "      <td>1.477670e+05</td>\n",
              "    </tr>\n",
              "    <tr>\n",
              "      <th>25%</th>\n",
              "      <td>8.653576e+06</td>\n",
              "      <td>80205.000000</td>\n",
              "      <td>39.728112</td>\n",
              "      <td>-104.978430</td>\n",
              "      <td>2.000000</td>\n",
              "      <td>1.000000</td>\n",
              "      <td>5.000000</td>\n",
              "      <td>979.000000</td>\n",
              "      <td>4460.000000</td>\n",
              "      <td>1906.000000</td>\n",
              "      <td>2.239000e+05</td>\n",
              "      <td>1.150000e+05</td>\n",
              "      <td>4.015370e+05</td>\n",
              "    </tr>\n",
              "    <tr>\n",
              "      <th>50%</th>\n",
              "      <td>2.170586e+07</td>\n",
              "      <td>80206.000000</td>\n",
              "      <td>39.748887</td>\n",
              "      <td>-104.957680</td>\n",
              "      <td>3.000000</td>\n",
              "      <td>2.000000</td>\n",
              "      <td>6.000000</td>\n",
              "      <td>1240.000000</td>\n",
              "      <td>5950.000000</td>\n",
              "      <td>1925.000000</td>\n",
              "      <td>3.450000e+05</td>\n",
              "      <td>2.140000e+05</td>\n",
              "      <td>5.157780e+05</td>\n",
              "    </tr>\n",
              "    <tr>\n",
              "      <th>75%</th>\n",
              "      <td>4.622806e+07</td>\n",
              "      <td>80207.000000</td>\n",
              "      <td>39.758784</td>\n",
              "      <td>-104.936418</td>\n",
              "      <td>3.000000</td>\n",
              "      <td>3.000000</td>\n",
              "      <td>7.000000</td>\n",
              "      <td>1700.000000</td>\n",
              "      <td>6250.000000</td>\n",
              "      <td>1949.000000</td>\n",
              "      <td>4.850000e+05</td>\n",
              "      <td>3.321070e+05</td>\n",
              "      <td>6.785300e+05</td>\n",
              "    </tr>\n",
              "    <tr>\n",
              "      <th>max</th>\n",
              "      <td>2.527298e+08</td>\n",
              "      <td>80209.000000</td>\n",
              "      <td>39.849160</td>\n",
              "      <td>-104.893468</td>\n",
              "      <td>15.000000</td>\n",
              "      <td>12.000000</td>\n",
              "      <td>39.000000</td>\n",
              "      <td>10907.000000</td>\n",
              "      <td>97125.000000</td>\n",
              "      <td>2016.000000</td>\n",
              "      <td>4.560000e+07</td>\n",
              "      <td>1.600000e+07</td>\n",
              "      <td>1.014531e+07</td>\n",
              "    </tr>\n",
              "  </tbody>\n",
              "</table>\n",
              "</div>\n",
              "      <button class=\"colab-df-convert\" onclick=\"convertToInteractive('df-0a895f7f-a822-414c-bc17-56e062e5d65d')\"\n",
              "              title=\"Convert this dataframe to an interactive table.\"\n",
              "              style=\"display:none;\">\n",
              "        \n",
              "  <svg xmlns=\"http://www.w3.org/2000/svg\" height=\"24px\"viewBox=\"0 0 24 24\"\n",
              "       width=\"24px\">\n",
              "    <path d=\"M0 0h24v24H0V0z\" fill=\"none\"/>\n",
              "    <path d=\"M18.56 5.44l.94 2.06.94-2.06 2.06-.94-2.06-.94-.94-2.06-.94 2.06-2.06.94zm-11 1L8.5 8.5l.94-2.06 2.06-.94-2.06-.94L8.5 2.5l-.94 2.06-2.06.94zm10 10l.94 2.06.94-2.06 2.06-.94-2.06-.94-.94-2.06-.94 2.06-2.06.94z\"/><path d=\"M17.41 7.96l-1.37-1.37c-.4-.4-.92-.59-1.43-.59-.52 0-1.04.2-1.43.59L10.3 9.45l-7.72 7.72c-.78.78-.78 2.05 0 2.83L4 21.41c.39.39.9.59 1.41.59.51 0 1.02-.2 1.41-.59l7.78-7.78 2.81-2.81c.8-.78.8-2.07 0-2.86zM5.41 20L4 18.59l7.72-7.72 1.47 1.35L5.41 20z\"/>\n",
              "  </svg>\n",
              "      </button>\n",
              "      \n",
              "  <style>\n",
              "    .colab-df-container {\n",
              "      display:flex;\n",
              "      flex-wrap:wrap;\n",
              "      gap: 12px;\n",
              "    }\n",
              "\n",
              "    .colab-df-convert {\n",
              "      background-color: #E8F0FE;\n",
              "      border: none;\n",
              "      border-radius: 50%;\n",
              "      cursor: pointer;\n",
              "      display: none;\n",
              "      fill: #1967D2;\n",
              "      height: 32px;\n",
              "      padding: 0 0 0 0;\n",
              "      width: 32px;\n",
              "    }\n",
              "\n",
              "    .colab-df-convert:hover {\n",
              "      background-color: #E2EBFA;\n",
              "      box-shadow: 0px 1px 2px rgba(60, 64, 67, 0.3), 0px 1px 3px 1px rgba(60, 64, 67, 0.15);\n",
              "      fill: #174EA6;\n",
              "    }\n",
              "\n",
              "    [theme=dark] .colab-df-convert {\n",
              "      background-color: #3B4455;\n",
              "      fill: #D2E3FC;\n",
              "    }\n",
              "\n",
              "    [theme=dark] .colab-df-convert:hover {\n",
              "      background-color: #434B5C;\n",
              "      box-shadow: 0px 1px 3px 1px rgba(0, 0, 0, 0.15);\n",
              "      filter: drop-shadow(0px 1px 2px rgba(0, 0, 0, 0.3));\n",
              "      fill: #FFFFFF;\n",
              "    }\n",
              "  </style>\n",
              "\n",
              "      <script>\n",
              "        const buttonEl =\n",
              "          document.querySelector('#df-0a895f7f-a822-414c-bc17-56e062e5d65d button.colab-df-convert');\n",
              "        buttonEl.style.display =\n",
              "          google.colab.kernel.accessAllowed ? 'block' : 'none';\n",
              "\n",
              "        async function convertToInteractive(key) {\n",
              "          const element = document.querySelector('#df-0a895f7f-a822-414c-bc17-56e062e5d65d');\n",
              "          const dataTable =\n",
              "            await google.colab.kernel.invokeFunction('convertToInteractive',\n",
              "                                                     [key], {});\n",
              "          if (!dataTable) return;\n",
              "\n",
              "          const docLinkHtml = 'Like what you see? Visit the ' +\n",
              "            '<a target=\"_blank\" href=https://colab.research.google.com/notebooks/data_table.ipynb>data table notebook</a>'\n",
              "            + ' to learn more about interactive tables.';\n",
              "          element.innerHTML = '';\n",
              "          dataTable['output_type'] = 'display_data';\n",
              "          await google.colab.output.renderOutput(dataTable, element);\n",
              "          const docLink = document.createElement('div');\n",
              "          docLink.innerHTML = docLinkHtml;\n",
              "          element.appendChild(docLink);\n",
              "        }\n",
              "      </script>\n",
              "    </div>\n",
              "  </div>\n",
              "  "
            ],
            "text/plain": [
              "                 id       zipcode  ...  priorSaleAmount  estimated_value\n",
              "count  1.117300e+04  11173.000000  ...     1.117300e+04     1.117300e+04\n",
              "mean   4.419642e+07  80205.002954  ...     2.624790e+05     6.310055e+05\n",
              "std    5.665783e+07      9.181246  ...     3.387000e+05     5.002564e+05\n",
              "min    1.433670e+05  80022.000000  ...     0.000000e+00     1.477670e+05\n",
              "25%    8.653576e+06  80205.000000  ...     1.150000e+05     4.015370e+05\n",
              "50%    2.170586e+07  80206.000000  ...     2.140000e+05     5.157780e+05\n",
              "75%    4.622806e+07  80207.000000  ...     3.321070e+05     6.785300e+05\n",
              "max    2.527298e+08  80209.000000  ...     1.600000e+07     1.014531e+07\n",
              "\n",
              "[8 rows x 13 columns]"
            ]
          },
          "metadata": {},
          "execution_count": 6
        },
        {
          "output_type": "stream",
          "name": "stdout",
          "text": [
            "Error: Runtime no longer has a reference to this dataframe, please re-run this cell and try again.\n"
          ]
        }
      ]
    },
    {
      "cell_type": "code",
      "source": [
        "df[['estimated_value', 'yearBuilt', 'priorSaleAmount']].head(2)"
      ],
      "metadata": {
        "colab": {
          "base_uri": "https://localhost:8080/",
          "height": 150
        },
        "id": "UTOi1DjuEL25",
        "outputId": "37f49882-e40a-46cb-e421-25fe5ca8f398"
      },
      "execution_count": 7,
      "outputs": [
        {
          "output_type": "execute_result",
          "data": {
            "text/html": [
              "\n",
              "  <div id=\"df-951eb6aa-f9d2-4d28-a718-737e50867831\">\n",
              "    <div class=\"colab-df-container\">\n",
              "      <div>\n",
              "<style scoped>\n",
              "    .dataframe tbody tr th:only-of-type {\n",
              "        vertical-align: middle;\n",
              "    }\n",
              "\n",
              "    .dataframe tbody tr th {\n",
              "        vertical-align: top;\n",
              "    }\n",
              "\n",
              "    .dataframe thead th {\n",
              "        text-align: right;\n",
              "    }\n",
              "</style>\n",
              "<table border=\"1\" class=\"dataframe\">\n",
              "  <thead>\n",
              "    <tr style=\"text-align: right;\">\n",
              "      <th></th>\n",
              "      <th>estimated_value</th>\n",
              "      <th>yearBuilt</th>\n",
              "      <th>priorSaleAmount</th>\n",
              "    </tr>\n",
              "  </thead>\n",
              "  <tbody>\n",
              "    <tr>\n",
              "      <th>0</th>\n",
              "      <td>239753</td>\n",
              "      <td>2003.0</td>\n",
              "      <td>165700.0</td>\n",
              "    </tr>\n",
              "    <tr>\n",
              "      <th>3</th>\n",
              "      <td>494073</td>\n",
              "      <td>1956.0</td>\n",
              "      <td>0.0</td>\n",
              "    </tr>\n",
              "  </tbody>\n",
              "</table>\n",
              "</div>\n",
              "      <button class=\"colab-df-convert\" onclick=\"convertToInteractive('df-951eb6aa-f9d2-4d28-a718-737e50867831')\"\n",
              "              title=\"Convert this dataframe to an interactive table.\"\n",
              "              style=\"display:none;\">\n",
              "        \n",
              "  <svg xmlns=\"http://www.w3.org/2000/svg\" height=\"24px\"viewBox=\"0 0 24 24\"\n",
              "       width=\"24px\">\n",
              "    <path d=\"M0 0h24v24H0V0z\" fill=\"none\"/>\n",
              "    <path d=\"M18.56 5.44l.94 2.06.94-2.06 2.06-.94-2.06-.94-.94-2.06-.94 2.06-2.06.94zm-11 1L8.5 8.5l.94-2.06 2.06-.94-2.06-.94L8.5 2.5l-.94 2.06-2.06.94zm10 10l.94 2.06.94-2.06 2.06-.94-2.06-.94-.94-2.06-.94 2.06-2.06.94z\"/><path d=\"M17.41 7.96l-1.37-1.37c-.4-.4-.92-.59-1.43-.59-.52 0-1.04.2-1.43.59L10.3 9.45l-7.72 7.72c-.78.78-.78 2.05 0 2.83L4 21.41c.39.39.9.59 1.41.59.51 0 1.02-.2 1.41-.59l7.78-7.78 2.81-2.81c.8-.78.8-2.07 0-2.86zM5.41 20L4 18.59l7.72-7.72 1.47 1.35L5.41 20z\"/>\n",
              "  </svg>\n",
              "      </button>\n",
              "      \n",
              "  <style>\n",
              "    .colab-df-container {\n",
              "      display:flex;\n",
              "      flex-wrap:wrap;\n",
              "      gap: 12px;\n",
              "    }\n",
              "\n",
              "    .colab-df-convert {\n",
              "      background-color: #E8F0FE;\n",
              "      border: none;\n",
              "      border-radius: 50%;\n",
              "      cursor: pointer;\n",
              "      display: none;\n",
              "      fill: #1967D2;\n",
              "      height: 32px;\n",
              "      padding: 0 0 0 0;\n",
              "      width: 32px;\n",
              "    }\n",
              "\n",
              "    .colab-df-convert:hover {\n",
              "      background-color: #E2EBFA;\n",
              "      box-shadow: 0px 1px 2px rgba(60, 64, 67, 0.3), 0px 1px 3px 1px rgba(60, 64, 67, 0.15);\n",
              "      fill: #174EA6;\n",
              "    }\n",
              "\n",
              "    [theme=dark] .colab-df-convert {\n",
              "      background-color: #3B4455;\n",
              "      fill: #D2E3FC;\n",
              "    }\n",
              "\n",
              "    [theme=dark] .colab-df-convert:hover {\n",
              "      background-color: #434B5C;\n",
              "      box-shadow: 0px 1px 3px 1px rgba(0, 0, 0, 0.15);\n",
              "      filter: drop-shadow(0px 1px 2px rgba(0, 0, 0, 0.3));\n",
              "      fill: #FFFFFF;\n",
              "    }\n",
              "  </style>\n",
              "\n",
              "      <script>\n",
              "        const buttonEl =\n",
              "          document.querySelector('#df-951eb6aa-f9d2-4d28-a718-737e50867831 button.colab-df-convert');\n",
              "        buttonEl.style.display =\n",
              "          google.colab.kernel.accessAllowed ? 'block' : 'none';\n",
              "\n",
              "        async function convertToInteractive(key) {\n",
              "          const element = document.querySelector('#df-951eb6aa-f9d2-4d28-a718-737e50867831');\n",
              "          const dataTable =\n",
              "            await google.colab.kernel.invokeFunction('convertToInteractive',\n",
              "                                                     [key], {});\n",
              "          if (!dataTable) return;\n",
              "\n",
              "          const docLinkHtml = 'Like what you see? Visit the ' +\n",
              "            '<a target=\"_blank\" href=https://colab.research.google.com/notebooks/data_table.ipynb>data table notebook</a>'\n",
              "            + ' to learn more about interactive tables.';\n",
              "          element.innerHTML = '';\n",
              "          dataTable['output_type'] = 'display_data';\n",
              "          await google.colab.output.renderOutput(dataTable, element);\n",
              "          const docLink = document.createElement('div');\n",
              "          docLink.innerHTML = docLinkHtml;\n",
              "          element.appendChild(docLink);\n",
              "        }\n",
              "      </script>\n",
              "    </div>\n",
              "  </div>\n",
              "  "
            ],
            "text/plain": [
              "   estimated_value  yearBuilt  priorSaleAmount\n",
              "0           239753     2003.0         165700.0\n",
              "3           494073     1956.0              0.0"
            ]
          },
          "metadata": {},
          "execution_count": 7
        }
      ]
    },
    {
      "cell_type": "code",
      "source": [
        "# Check for outliers using boxplot for extimated value\n",
        "sns.boxplot(df.estimated_value)"
      ],
      "metadata": {
        "colab": {
          "base_uri": "https://localhost:8080/",
          "height": 352
        },
        "id": "_IDgEswSA_qK",
        "outputId": "722da18e-57ec-4567-fe1c-f5de6e5e8b75"
      },
      "execution_count": 8,
      "outputs": [
        {
          "output_type": "stream",
          "name": "stderr",
          "text": [
            "/usr/local/lib/python3.7/dist-packages/seaborn/_decorators.py:43: FutureWarning: Pass the following variable as a keyword arg: x. From version 0.12, the only valid positional argument will be `data`, and passing other arguments without an explicit keyword will result in an error or misinterpretation.\n",
            "  FutureWarning\n"
          ]
        },
        {
          "output_type": "execute_result",
          "data": {
            "text/plain": [
              "<matplotlib.axes._subplots.AxesSubplot at 0x7fc3e6ecb690>"
            ]
          },
          "metadata": {},
          "execution_count": 8
        },
        {
          "output_type": "display_data",
          "data": {
            "image/png": "[encoded data removed]",
            "text/plain": [
              "<Figure size 432x288 with 1 Axes>"
            ]
          },
          "metadata": {
            "needs_background": "light"
          }
        }
      ]
    },
    {
      "cell_type": "code",
      "source": [
        "# Get rid of outliers. Slicing out estimated value that is above USD 800,000.00 from dataframe\n",
        "df = df[df.estimated_value<=800000]\n",
        "df.shape\n"
      ],
      "metadata": {
        "colab": {
          "base_uri": "https://localhost:8080/"
        },
        "id": "iCYdpRSdEZiG",
        "outputId": "8698ef00-41af-408b-bc56-902956cc9b48"
      },
      "execution_count": 9,
      "outputs": [
        {
          "output_type": "execute_result",
          "data": {
            "text/plain": [
              "(9541, 18)"
            ]
          },
          "metadata": {},
          "execution_count": 9
        }
      ]
    },
    {
      "cell_type": "code",
      "source": [
        "sns.boxplot(df.estimated_value)"
      ],
      "metadata": {
        "colab": {
          "base_uri": "https://localhost:8080/",
          "height": 352
        },
        "id": "txEcqCdKGBJ0",
        "outputId": "bf0e0ba2-cd68-4f5a-d41a-682fe4685737"
      },
      "execution_count": 10,
      "outputs": [
        {
          "output_type": "stream",
          "name": "stderr",
          "text": [
            "/usr/local/lib/python3.7/dist-packages/seaborn/_decorators.py:43: FutureWarning: Pass the following variable as a keyword arg: x. From version 0.12, the only valid positional argument will be `data`, and passing other arguments without an explicit keyword will result in an error or misinterpretation.\n",
            "  FutureWarning\n"
          ]
        },
        {
          "output_type": "execute_result",
          "data": {
            "text/plain": [
              "<matplotlib.axes._subplots.AxesSubplot at 0x7fc3e6e3b0d0>"
            ]
          },
          "metadata": {},
          "execution_count": 10
        },
        {
          "output_type": "display_data",
          "data": {
            "image/png": "[encoded data removed]",
            "text/plain": [
              "<Figure size 432x288 with 1 Axes>"
            ]
          },
          "metadata": {
            "needs_background": "light"
          }
        }
      ]
    },
    {
      "cell_type": "code",
      "source": [
        "df.estimated_value.hist()"
      ],
      "metadata": {
        "colab": {
          "base_uri": "https://localhost:8080/",
          "height": 282
        },
        "id": "-WUkPgXJGbXb",
        "outputId": "9c2b5815-e507-4a93-fdaa-e6fa1928b9de"
      },
      "execution_count": 11,
      "outputs": [
        {
          "output_type": "execute_result",
          "data": {
            "text/plain": [
              "<matplotlib.axes._subplots.AxesSubplot at 0x7fc3e6913ad0>"
            ]
          },
          "metadata": {},
          "execution_count": 11
        },
        {
          "output_type": "display_data",
          "data": {
            "image/png": "[encoded data removed]",
            "text/plain": [
              "<Figure size 432x288 with 1 Axes>"
            ]
          },
          "metadata": {
            "needs_background": "light"
          }
        }
      ]
    },
    {
      "cell_type": "code",
      "source": [
        "#filter out noise, slice df\n",
        "df[(df.estimated_value<=1000000)  &  (df.yearBuilt>2013) &  (df.zipcode==80209)] "
      ],
      "metadata": {
        "colab": {
          "base_uri": "https://localhost:8080/",
          "height": 238
        },
        "id": "8AHDn-orZDQr",
        "outputId": "990a8a56-3d06-4ed4-84ba-e0f657dc6fe4"
      },
      "execution_count": 12,
      "outputs": [
        {
          "output_type": "execute_result",
          "data": {
            "text/html": [
              "\n",
              "  <div id=\"df-15e91844-b0d4-42ac-b153-e95f33e0a0f6\">\n",
              "    <div class=\"colab-df-container\">\n",
              "      <div>\n",
              "<style scoped>\n",
              "    .dataframe tbody tr th:only-of-type {\n",
              "        vertical-align: middle;\n",
              "    }\n",
              "\n",
              "    .dataframe tbody tr th {\n",
              "        vertical-align: top;\n",
              "    }\n",
              "\n",
              "    .dataframe thead th {\n",
              "        text-align: right;\n",
              "    }\n",
              "</style>\n",
              "<table border=\"1\" class=\"dataframe\">\n",
              "  <thead>\n",
              "    <tr style=\"text-align: right;\">\n",
              "      <th></th>\n",
              "      <th>id</th>\n",
              "      <th>address</th>\n",
              "      <th>city</th>\n",
              "      <th>state</th>\n",
              "      <th>zipcode</th>\n",
              "      <th>latitude</th>\n",
              "      <th>longitude</th>\n",
              "      <th>bedrooms</th>\n",
              "      <th>bathrooms</th>\n",
              "      <th>rooms</th>\n",
              "      <th>squareFootage</th>\n",
              "      <th>lotSize</th>\n",
              "      <th>yearBuilt</th>\n",
              "      <th>lastSaleDate</th>\n",
              "      <th>lastSaleAmount</th>\n",
              "      <th>priorSaleDate</th>\n",
              "      <th>priorSaleAmount</th>\n",
              "      <th>estimated_value</th>\n",
              "    </tr>\n",
              "  </thead>\n",
              "  <tbody>\n",
              "    <tr>\n",
              "      <th>13276</th>\n",
              "      <td>39512040</td>\n",
              "      <td>764 S York St</td>\n",
              "      <td>Denver</td>\n",
              "      <td>CO</td>\n",
              "      <td>80209</td>\n",
              "      <td>39.702607</td>\n",
              "      <td>-104.960243</td>\n",
              "      <td>3</td>\n",
              "      <td>4.0</td>\n",
              "      <td>7</td>\n",
              "      <td>2567</td>\n",
              "      <td>6250</td>\n",
              "      <td>2016.0</td>\n",
              "      <td>2012-07-23</td>\n",
              "      <td>420000</td>\n",
              "      <td>2010-11-29</td>\n",
              "      <td>385000.0</td>\n",
              "      <td>770622</td>\n",
              "    </tr>\n",
              "    <tr>\n",
              "      <th>13316</th>\n",
              "      <td>11586398</td>\n",
              "      <td>450 S Vine St</td>\n",
              "      <td>Denver</td>\n",
              "      <td>CO</td>\n",
              "      <td>80209</td>\n",
              "      <td>39.708351</td>\n",
              "      <td>-104.962546</td>\n",
              "      <td>3</td>\n",
              "      <td>5.0</td>\n",
              "      <td>7</td>\n",
              "      <td>2570</td>\n",
              "      <td>4680</td>\n",
              "      <td>2016.0</td>\n",
              "      <td>2015-02-11</td>\n",
              "      <td>571000</td>\n",
              "      <td>2007-01-03</td>\n",
              "      <td>399000.0</td>\n",
              "      <td>682810</td>\n",
              "    </tr>\n",
              "    <tr>\n",
              "      <th>13428</th>\n",
              "      <td>11586742</td>\n",
              "      <td>636 S Williams St</td>\n",
              "      <td>Denver</td>\n",
              "      <td>CO</td>\n",
              "      <td>80209</td>\n",
              "      <td>39.704969</td>\n",
              "      <td>-104.966025</td>\n",
              "      <td>3</td>\n",
              "      <td>5.0</td>\n",
              "      <td>6</td>\n",
              "      <td>2578</td>\n",
              "      <td>4680</td>\n",
              "      <td>2016.0</td>\n",
              "      <td>2015-07-22</td>\n",
              "      <td>637600</td>\n",
              "      <td>2007-02-02</td>\n",
              "      <td>481900.0</td>\n",
              "      <td>745777</td>\n",
              "    </tr>\n",
              "    <tr>\n",
              "      <th>13431</th>\n",
              "      <td>184305844</td>\n",
              "      <td>456 S High St</td>\n",
              "      <td>Denver</td>\n",
              "      <td>CO</td>\n",
              "      <td>80209</td>\n",
              "      <td>39.708197</td>\n",
              "      <td>-104.964857</td>\n",
              "      <td>3</td>\n",
              "      <td>5.0</td>\n",
              "      <td>10</td>\n",
              "      <td>3346</td>\n",
              "      <td>6240</td>\n",
              "      <td>2016.0</td>\n",
              "      <td>2016-01-11</td>\n",
              "      <td>725000</td>\n",
              "      <td>1993-07-15</td>\n",
              "      <td>124000.0</td>\n",
              "      <td>751361</td>\n",
              "    </tr>\n",
              "    <tr>\n",
              "      <th>13766</th>\n",
              "      <td>7652681</td>\n",
              "      <td>408 S Franklin St</td>\n",
              "      <td>Denver</td>\n",
              "      <td>CO</td>\n",
              "      <td>80209</td>\n",
              "      <td>39.709074</td>\n",
              "      <td>-104.968369</td>\n",
              "      <td>3</td>\n",
              "      <td>5.0</td>\n",
              "      <td>8</td>\n",
              "      <td>3367</td>\n",
              "      <td>5060</td>\n",
              "      <td>2015.0</td>\n",
              "      <td>2014-04-21</td>\n",
              "      <td>513486</td>\n",
              "      <td>2007-08-22</td>\n",
              "      <td>435000.0</td>\n",
              "      <td>709102</td>\n",
              "    </tr>\n",
              "    <tr>\n",
              "      <th>14982</th>\n",
              "      <td>43208991</td>\n",
              "      <td>731 S Elizabeth St</td>\n",
              "      <td>Denver</td>\n",
              "      <td>CO</td>\n",
              "      <td>80209</td>\n",
              "      <td>39.703135</td>\n",
              "      <td>-104.956141</td>\n",
              "      <td>2</td>\n",
              "      <td>3.0</td>\n",
              "      <td>6</td>\n",
              "      <td>2680</td>\n",
              "      <td>6160</td>\n",
              "      <td>2016.0</td>\n",
              "      <td>2015-03-31</td>\n",
              "      <td>485000</td>\n",
              "      <td>2003-06-19</td>\n",
              "      <td>357500.0</td>\n",
              "      <td>753935</td>\n",
              "    </tr>\n",
              "  </tbody>\n",
              "</table>\n",
              "</div>\n",
              "      <button class=\"colab-df-convert\" onclick=\"convertToInteractive('df-15e91844-b0d4-42ac-b153-e95f33e0a0f6')\"\n",
              "              title=\"Convert this dataframe to an interactive table.\"\n",
              "              style=\"display:none;\">\n",
              "        \n",
              "  <svg xmlns=\"http://www.w3.org/2000/svg\" height=\"24px\"viewBox=\"0 0 24 24\"\n",
              "       width=\"24px\">\n",
              "    <path d=\"M0 0h24v24H0V0z\" fill=\"none\"/>\n",
              "    <path d=\"M18.56 5.44l.94 2.06.94-2.06 2.06-.94-2.06-.94-.94-2.06-.94 2.06-2.06.94zm-11 1L8.5 8.5l.94-2.06 2.06-.94-2.06-.94L8.5 2.5l-.94 2.06-2.06.94zm10 10l.94 2.06.94-2.06 2.06-.94-2.06-.94-.94-2.06-.94 2.06-2.06.94z\"/><path d=\"M17.41 7.96l-1.37-1.37c-.4-.4-.92-.59-1.43-.59-.52 0-1.04.2-1.43.59L10.3 9.45l-7.72 7.72c-.78.78-.78 2.05 0 2.83L4 21.41c.39.39.9.59 1.41.59.51 0 1.02-.2 1.41-.59l7.78-7.78 2.81-2.81c.8-.78.8-2.07 0-2.86zM5.41 20L4 18.59l7.72-7.72 1.47 1.35L5.41 20z\"/>\n",
              "  </svg>\n",
              "      </button>\n",
              "      \n",
              "  <style>\n",
              "    .colab-df-container {\n",
              "      display:flex;\n",
              "      flex-wrap:wrap;\n",
              "      gap: 12px;\n",
              "    }\n",
              "\n",
              "    .colab-df-convert {\n",
              "      background-color: #E8F0FE;\n",
              "      border: none;\n",
              "      border-radius: 50%;\n",
              "      cursor: pointer;\n",
              "      display: none;\n",
              "      fill: #1967D2;\n",
              "      height: 32px;\n",
              "      padding: 0 0 0 0;\n",
              "      width: 32px;\n",
              "    }\n",
              "\n",
              "    .colab-df-convert:hover {\n",
              "      background-color: #E2EBFA;\n",
              "      box-shadow: 0px 1px 2px rgba(60, 64, 67, 0.3), 0px 1px 3px 1px rgba(60, 64, 67, 0.15);\n",
              "      fill: #174EA6;\n",
              "    }\n",
              "\n",
              "    [theme=dark] .colab-df-convert {\n",
              "      background-color: #3B4455;\n",
              "      fill: #D2E3FC;\n",
              "    }\n",
              "\n",
              "    [theme=dark] .colab-df-convert:hover {\n",
              "      background-color: #434B5C;\n",
              "      box-shadow: 0px 1px 3px 1px rgba(0, 0, 0, 0.15);\n",
              "      filter: drop-shadow(0px 1px 2px rgba(0, 0, 0, 0.3));\n",
              "      fill: #FFFFFF;\n",
              "    }\n",
              "  </style>\n",
              "\n",
              "      <script>\n",
              "        const buttonEl =\n",
              "          document.querySelector('#df-15e91844-b0d4-42ac-b153-e95f33e0a0f6 button.colab-df-convert');\n",
              "        buttonEl.style.display =\n",
              "          google.colab.kernel.accessAllowed ? 'block' : 'none';\n",
              "\n",
              "        async function convertToInteractive(key) {\n",
              "          const element = document.querySelector('#df-15e91844-b0d4-42ac-b153-e95f33e0a0f6');\n",
              "          const dataTable =\n",
              "            await google.colab.kernel.invokeFunction('convertToInteractive',\n",
              "                                                     [key], {});\n",
              "          if (!dataTable) return;\n",
              "\n",
              "          const docLinkHtml = 'Like what you see? Visit the ' +\n",
              "            '<a target=\"_blank\" href=https://colab.research.google.com/notebooks/data_table.ipynb>data table notebook</a>'\n",
              "            + ' to learn more about interactive tables.';\n",
              "          element.innerHTML = '';\n",
              "          dataTable['output_type'] = 'display_data';\n",
              "          await google.colab.output.renderOutput(dataTable, element);\n",
              "          const docLink = document.createElement('div');\n",
              "          docLink.innerHTML = docLinkHtml;\n",
              "          element.appendChild(docLink);\n",
              "        }\n",
              "      </script>\n",
              "    </div>\n",
              "  </div>\n",
              "  "
            ],
            "text/plain": [
              "              id             address  ... priorSaleAmount estimated_value\n",
              "13276   39512040       764 S York St  ...        385000.0          770622\n",
              "13316   11586398       450 S Vine St  ...        399000.0          682810\n",
              "13428   11586742   636 S Williams St  ...        481900.0          745777\n",
              "13431  184305844       456 S High St  ...        124000.0          751361\n",
              "13766    7652681   408 S Franklin St  ...        435000.0          709102\n",
              "14982   43208991  731 S Elizabeth St  ...        357500.0          753935\n",
              "\n",
              "[6 rows x 18 columns]"
            ]
          },
          "metadata": {},
          "execution_count": 12
        }
      ]
    },
    {
      "cell_type": "code",
      "source": [
        "df.describe() "
      ],
      "metadata": {
        "colab": {
          "base_uri": "https://localhost:8080/",
          "height": 300
        },
        "id": "yo7LpxAreRBe",
        "outputId": "910f8426-e372-44f4-ea80-8e18da34f720"
      },
      "execution_count": 13,
      "outputs": [
        {
          "output_type": "execute_result",
          "data": {
            "text/html": [
              "\n",
              "  <div id=\"df-a88bf239-84ba-4f81-a475-3da4bc15b6ff\">\n",
              "    <div class=\"colab-df-container\">\n",
              "      <div>\n",
              "<style scoped>\n",
              "    .dataframe tbody tr th:only-of-type {\n",
              "        vertical-align: middle;\n",
              "    }\n",
              "\n",
              "    .dataframe tbody tr th {\n",
              "        vertical-align: top;\n",
              "    }\n",
              "\n",
              "    .dataframe thead th {\n",
              "        text-align: right;\n",
              "    }\n",
              "</style>\n",
              "<table border=\"1\" class=\"dataframe\">\n",
              "  <thead>\n",
              "    <tr style=\"text-align: right;\">\n",
              "      <th></th>\n",
              "      <th>id</th>\n",
              "      <th>zipcode</th>\n",
              "      <th>latitude</th>\n",
              "      <th>longitude</th>\n",
              "      <th>bedrooms</th>\n",
              "      <th>bathrooms</th>\n",
              "      <th>rooms</th>\n",
              "      <th>squareFootage</th>\n",
              "      <th>lotSize</th>\n",
              "      <th>yearBuilt</th>\n",
              "      <th>lastSaleAmount</th>\n",
              "      <th>priorSaleAmount</th>\n",
              "      <th>estimated_value</th>\n",
              "    </tr>\n",
              "  </thead>\n",
              "  <tbody>\n",
              "    <tr>\n",
              "      <th>count</th>\n",
              "      <td>9.541000e+03</td>\n",
              "      <td>9541.000000</td>\n",
              "      <td>9541.000000</td>\n",
              "      <td>9541.000000</td>\n",
              "      <td>9541.000000</td>\n",
              "      <td>9541.000000</td>\n",
              "      <td>9541.000000</td>\n",
              "      <td>9541.000000</td>\n",
              "      <td>9541.000000</td>\n",
              "      <td>9541.000000</td>\n",
              "      <td>9.541000e+03</td>\n",
              "      <td>9.541000e+03</td>\n",
              "      <td>9541.000000</td>\n",
              "    </tr>\n",
              "    <tr>\n",
              "      <th>mean</th>\n",
              "      <td>4.105231e+07</td>\n",
              "      <td>80204.672990</td>\n",
              "      <td>39.744091</td>\n",
              "      <td>-104.965074</td>\n",
              "      <td>2.543025</td>\n",
              "      <td>1.895137</td>\n",
              "      <td>5.671418</td>\n",
              "      <td>1248.155958</td>\n",
              "      <td>5428.923488</td>\n",
              "      <td>1927.122473</td>\n",
              "      <td>3.293560e+05</td>\n",
              "      <td>2.028308e+05</td>\n",
              "      <td>493619.475631</td>\n",
              "    </tr>\n",
              "    <tr>\n",
              "      <th>std</th>\n",
              "      <td>5.462284e+07</td>\n",
              "      <td>9.762654</td>\n",
              "      <td>0.022745</td>\n",
              "      <td>0.042052</td>\n",
              "      <td>0.751769</td>\n",
              "      <td>0.763786</td>\n",
              "      <td>1.375394</td>\n",
              "      <td>425.426176</td>\n",
              "      <td>1700.874076</td>\n",
              "      <td>27.265469</td>\n",
              "      <td>5.043234e+05</td>\n",
              "      <td>1.572737e+05</td>\n",
              "      <td>135785.916292</td>\n",
              "    </tr>\n",
              "    <tr>\n",
              "      <th>min</th>\n",
              "      <td>1.433670e+05</td>\n",
              "      <td>80022.000000</td>\n",
              "      <td>39.614539</td>\n",
              "      <td>-105.108407</td>\n",
              "      <td>0.000000</td>\n",
              "      <td>0.000000</td>\n",
              "      <td>0.000000</td>\n",
              "      <td>350.000000</td>\n",
              "      <td>278.000000</td>\n",
              "      <td>1874.000000</td>\n",
              "      <td>5.000000e+02</td>\n",
              "      <td>0.000000e+00</td>\n",
              "      <td>147767.000000</td>\n",
              "    </tr>\n",
              "    <tr>\n",
              "      <th>25%</th>\n",
              "      <td>7.435623e+06</td>\n",
              "      <td>80205.000000</td>\n",
              "      <td>39.731155</td>\n",
              "      <td>-104.981756</td>\n",
              "      <td>2.000000</td>\n",
              "      <td>1.000000</td>\n",
              "      <td>5.000000</td>\n",
              "      <td>947.000000</td>\n",
              "      <td>4430.000000</td>\n",
              "      <td>1906.000000</td>\n",
              "      <td>2.040000e+05</td>\n",
              "      <td>1.050000e+05</td>\n",
              "      <td>387179.000000</td>\n",
              "    </tr>\n",
              "    <tr>\n",
              "      <th>50%</th>\n",
              "      <td>1.959154e+07</td>\n",
              "      <td>80205.000000</td>\n",
              "      <td>39.751776</td>\n",
              "      <td>-104.958432</td>\n",
              "      <td>2.000000</td>\n",
              "      <td>2.000000</td>\n",
              "      <td>5.000000</td>\n",
              "      <td>1142.000000</td>\n",
              "      <td>5940.000000</td>\n",
              "      <td>1925.000000</td>\n",
              "      <td>3.135000e+05</td>\n",
              "      <td>1.926000e+05</td>\n",
              "      <td>474397.000000</td>\n",
              "    </tr>\n",
              "    <tr>\n",
              "      <th>75%</th>\n",
              "      <td>4.322824e+07</td>\n",
              "      <td>80207.000000</td>\n",
              "      <td>39.759879</td>\n",
              "      <td>-104.933618</td>\n",
              "      <td>3.000000</td>\n",
              "      <td>2.000000</td>\n",
              "      <td>6.000000</td>\n",
              "      <td>1478.000000</td>\n",
              "      <td>6250.000000</td>\n",
              "      <td>1949.000000</td>\n",
              "      <td>4.190000e+05</td>\n",
              "      <td>2.900000e+05</td>\n",
              "      <td>591917.000000</td>\n",
              "    </tr>\n",
              "    <tr>\n",
              "      <th>max</th>\n",
              "      <td>2.527298e+08</td>\n",
              "      <td>80209.000000</td>\n",
              "      <td>39.849160</td>\n",
              "      <td>-104.893468</td>\n",
              "      <td>9.000000</td>\n",
              "      <td>11.000000</td>\n",
              "      <td>21.000000</td>\n",
              "      <td>4695.000000</td>\n",
              "      <td>22400.000000</td>\n",
              "      <td>2016.000000</td>\n",
              "      <td>4.560000e+07</td>\n",
              "      <td>4.475900e+06</td>\n",
              "      <td>799746.000000</td>\n",
              "    </tr>\n",
              "  </tbody>\n",
              "</table>\n",
              "</div>\n",
              "      <button class=\"colab-df-convert\" onclick=\"convertToInteractive('df-a88bf239-84ba-4f81-a475-3da4bc15b6ff')\"\n",
              "              title=\"Convert this dataframe to an interactive table.\"\n",
              "              style=\"display:none;\">\n",
              "        \n",
              "  <svg xmlns=\"http://www.w3.org/2000/svg\" height=\"24px\"viewBox=\"0 0 24 24\"\n",
              "       width=\"24px\">\n",
              "    <path d=\"M0 0h24v24H0V0z\" fill=\"none\"/>\n",
              "    <path d=\"M18.56 5.44l.94 2.06.94-2.06 2.06-.94-2.06-.94-.94-2.06-.94 2.06-2.06.94zm-11 1L8.5 8.5l.94-2.06 2.06-.94-2.06-.94L8.5 2.5l-.94 2.06-2.06.94zm10 10l.94 2.06.94-2.06 2.06-.94-2.06-.94-.94-2.06-.94 2.06-2.06.94z\"/><path d=\"M17.41 7.96l-1.37-1.37c-.4-.4-.92-.59-1.43-.59-.52 0-1.04.2-1.43.59L10.3 9.45l-7.72 7.72c-.78.78-.78 2.05 0 2.83L4 21.41c.39.39.9.59 1.41.59.51 0 1.02-.2 1.41-.59l7.78-7.78 2.81-2.81c.8-.78.8-2.07 0-2.86zM5.41 20L4 18.59l7.72-7.72 1.47 1.35L5.41 20z\"/>\n",
              "  </svg>\n",
              "      </button>\n",
              "      \n",
              "  <style>\n",
              "    .colab-df-container {\n",
              "      display:flex;\n",
              "      flex-wrap:wrap;\n",
              "      gap: 12px;\n",
              "    }\n",
              "\n",
              "    .colab-df-convert {\n",
              "      background-color: #E8F0FE;\n",
              "      border: none;\n",
              "      border-radius: 50%;\n",
              "      cursor: pointer;\n",
              "      display: none;\n",
              "      fill: #1967D2;\n",
              "      height: 32px;\n",
              "      padding: 0 0 0 0;\n",
              "      width: 32px;\n",
              "    }\n",
              "\n",
              "    .colab-df-convert:hover {\n",
              "      background-color: #E2EBFA;\n",
              "      box-shadow: 0px 1px 2px rgba(60, 64, 67, 0.3), 0px 1px 3px 1px rgba(60, 64, 67, 0.15);\n",
              "      fill: #174EA6;\n",
              "    }\n",
              "\n",
              "    [theme=dark] .colab-df-convert {\n",
              "      background-color: #3B4455;\n",
              "      fill: #D2E3FC;\n",
              "    }\n",
              "\n",
              "    [theme=dark] .colab-df-convert:hover {\n",
              "      background-color: #434B5C;\n",
              "      box-shadow: 0px 1px 3px 1px rgba(0, 0, 0, 0.15);\n",
              "      filter: drop-shadow(0px 1px 2px rgba(0, 0, 0, 0.3));\n",
              "      fill: #FFFFFF;\n",
              "    }\n",
              "  </style>\n",
              "\n",
              "      <script>\n",
              "        const buttonEl =\n",
              "          document.querySelector('#df-a88bf239-84ba-4f81-a475-3da4bc15b6ff button.colab-df-convert');\n",
              "        buttonEl.style.display =\n",
              "          google.colab.kernel.accessAllowed ? 'block' : 'none';\n",
              "\n",
              "        async function convertToInteractive(key) {\n",
              "          const element = document.querySelector('#df-a88bf239-84ba-4f81-a475-3da4bc15b6ff');\n",
              "          const dataTable =\n",
              "            await google.colab.kernel.invokeFunction('convertToInteractive',\n",
              "                                                     [key], {});\n",
              "          if (!dataTable) return;\n",
              "\n",
              "          const docLinkHtml = 'Like what you see? Visit the ' +\n",
              "            '<a target=\"_blank\" href=https://colab.research.google.com/notebooks/data_table.ipynb>data table notebook</a>'\n",
              "            + ' to learn more about interactive tables.';\n",
              "          element.innerHTML = '';\n",
              "          dataTable['output_type'] = 'display_data';\n",
              "          await google.colab.output.renderOutput(dataTable, element);\n",
              "          const docLink = document.createElement('div');\n",
              "          docLink.innerHTML = docLinkHtml;\n",
              "          element.appendChild(docLink);\n",
              "        }\n",
              "      </script>\n",
              "    </div>\n",
              "  </div>\n",
              "  "
            ],
            "text/plain": [
              "                 id       zipcode  ...  priorSaleAmount  estimated_value\n",
              "count  9.541000e+03   9541.000000  ...     9.541000e+03      9541.000000\n",
              "mean   4.105231e+07  80204.672990  ...     2.028308e+05    493619.475631\n",
              "std    5.462284e+07      9.762654  ...     1.572737e+05    135785.916292\n",
              "min    1.433670e+05  80022.000000  ...     0.000000e+00    147767.000000\n",
              "25%    7.435623e+06  80205.000000  ...     1.050000e+05    387179.000000\n",
              "50%    1.959154e+07  80205.000000  ...     1.926000e+05    474397.000000\n",
              "75%    4.322824e+07  80207.000000  ...     2.900000e+05    591917.000000\n",
              "max    2.527298e+08  80209.000000  ...     4.475900e+06    799746.000000\n",
              "\n",
              "[8 rows x 13 columns]"
            ]
          },
          "metadata": {},
          "execution_count": 13
        }
      ]
    },
    {
      "cell_type": "code",
      "source": [
        "df.info()"
      ],
      "metadata": {
        "colab": {
          "base_uri": "https://localhost:8080/"
        },
        "id": "DbXIneSgeUbb",
        "outputId": "2775b20b-4720-4319-e96d-abbf41e42ee6"
      },
      "execution_count": 14,
      "outputs": [
        {
          "output_type": "stream",
          "name": "stdout",
          "text": [
            "<class 'pandas.core.frame.DataFrame'>\n",
            "Int64Index: 9541 entries, 0 to 14994\n",
            "Data columns (total 18 columns):\n",
            " #   Column           Non-Null Count  Dtype  \n",
            "---  ------           --------------  -----  \n",
            " 0   id               9541 non-null   int64  \n",
            " 1   address          9541 non-null   object \n",
            " 2   city             9541 non-null   object \n",
            " 3   state            9541 non-null   object \n",
            " 4   zipcode          9541 non-null   int64  \n",
            " 5   latitude         9541 non-null   float64\n",
            " 6   longitude        9541 non-null   float64\n",
            " 7   bedrooms         9541 non-null   int64  \n",
            " 8   bathrooms        9541 non-null   float64\n",
            " 9   rooms            9541 non-null   int64  \n",
            " 10  squareFootage    9541 non-null   int64  \n",
            " 11  lotSize          9541 non-null   int64  \n",
            " 12  yearBuilt        9541 non-null   float64\n",
            " 13  lastSaleDate     9541 non-null   object \n",
            " 14  lastSaleAmount   9541 non-null   int64  \n",
            " 15  priorSaleDate    9541 non-null   object \n",
            " 16  priorSaleAmount  9541 non-null   float64\n",
            " 17  estimated_value  9541 non-null   int64  \n",
            "dtypes: float64(5), int64(8), object(5)\n",
            "memory usage: 1.4+ MB\n"
          ]
        }
      ]
    },
    {
      "cell_type": "code",
      "source": [
        "df= df[df.lastSaleAmount<=800000]"
      ],
      "metadata": {
        "id": "twd7mS9FeadG"
      },
      "execution_count": 15,
      "outputs": []
    },
    {
      "cell_type": "code",
      "source": [
        "sns.pairplot(df[['lastSaleAmount', 'estimated_value', 'zipcode']], hue='zipcode')"
      ],
      "metadata": {
        "colab": {
          "base_uri": "https://localhost:8080/",
          "height": 391
        },
        "id": "YW5BNo0Jeb_w",
        "outputId": "bb7c2963-af9d-447e-fac3-9e51d8a4d115"
      },
      "execution_count": 16,
      "outputs": [
        {
          "output_type": "execute_result",
          "data": {
            "text/plain": [
              "<seaborn.axisgrid.PairGrid at 0x7fc3e6e49750>"
            ]
          },
          "metadata": {},
          "execution_count": 16
        },
        {
          "output_type": "display_data",
          "data": {
            "image/png": "[encoded data removed]",
            "text/plain": [
              "<Figure size 427.5x360 with 6 Axes>"
            ]
          },
          "metadata": {
            "needs_background": "light"
          }
        }
      ]
    },
    {
      "cell_type": "code",
      "source": [
        "sns.stripplot(x=df.zipcode, y=df.estimated_value)"
      ],
      "metadata": {
        "colab": {
          "base_uri": "https://localhost:8080/",
          "height": 296
        },
        "id": "64BH9lmphIGR",
        "outputId": "995db054-a2ff-4f93-c41d-c68cc533fbab"
      },
      "execution_count": 17,
      "outputs": [
        {
          "output_type": "execute_result",
          "data": {
            "text/plain": [
              "<matplotlib.axes._subplots.AxesSubplot at 0x7fc3dbd8f4d0>"
            ]
          },
          "metadata": {},
          "execution_count": 17
        },
        {
          "output_type": "display_data",
          "data": {
            "image/png": "[encoded data removed]",
            "text/plain": [
              "<Figure size 432x288 with 1 Axes>"
            ]
          },
          "metadata": {
            "needs_background": "light"
          }
        }
      ]
    },
    {
      "cell_type": "code",
      "source": [
        "sns.violinplot(x=df.zipcode, y=df.estimated_value)"
      ],
      "metadata": {
        "colab": {
          "base_uri": "https://localhost:8080/",
          "height": 300
        },
        "id": "sFTxJOMWiZpu",
        "outputId": "437a8494-d2ff-4b68-f131-324e63708ac2"
      },
      "execution_count": 18,
      "outputs": [
        {
          "output_type": "execute_result",
          "data": {
            "text/plain": [
              "<matplotlib.axes._subplots.AxesSubplot at 0x7fc3da508310>"
            ]
          },
          "metadata": {},
          "execution_count": 18
        },
        {
          "output_type": "display_data",
          "data": {
            "image/png": "[encoded data removed]",
            "text/plain": [
              "<Figure size 432x288 with 1 Axes>"
            ]
          },
          "metadata": {
            "needs_background": "light"
          }
        }
      ]
    },
    {
      "cell_type": "code",
      "source": [
        "df['priorSaleDate'] = pd.to_datetime(df.priorSaleDate)\n",
        "df['lastSaleDate'] = pd.to_datetime(df.lastSaleDate)\n",
        "\n",
        "df['weekday_lastSaleDate'] = df.lastSaleDate.dt.weekday\n",
        "df['year_lastSaleDate'] = df.lastSaleDate.dt.year\n",
        "\n",
        "df['weekday_priorSaleDate'] = df.priorSaleDate.dt.weekday\n",
        "df['year_priorSaleDate'] = df.priorSaleDate.dt.year\n",
        "\n",
        "df['year_between_last_sales']=df.year_lastSaleDate-df.year_priorSaleDate\n"
      ],
      "metadata": {
        "id": "oKSvlAOhFPK1"
      },
      "execution_count": 19,
      "outputs": []
    },
    {
      "cell_type": "code",
      "source": [
        "df.corr().loc[ 'estimated_value' , : ].sort_values(ascending=False)"
      ],
      "metadata": {
        "colab": {
          "base_uri": "https://localhost:8080/"
        },
        "id": "Zxi4uf5uFcTi",
        "outputId": "de815011-d03a-4265-b0dd-1b267591af0d"
      },
      "execution_count": 20,
      "outputs": [
        {
          "output_type": "execute_result",
          "data": {
            "text/plain": [
              "estimated_value            1.000000\n",
              "lastSaleAmount             0.738642\n",
              "squareFootage              0.613362\n",
              "bathrooms                  0.586416\n",
              "priorSaleAmount            0.539670\n",
              "rooms                      0.525103\n",
              "bedrooms                   0.280232\n",
              "longitude                  0.239454\n",
              "id                         0.123097\n",
              "zipcode                    0.098229\n",
              "year_between_last_sales    0.062336\n",
              "year_lastSaleDate          0.034776\n",
              "weekday_lastSaleDate      -0.001775\n",
              "weekday_priorSaleDate     -0.010604\n",
              "year_priorSaleDate        -0.037243\n",
              "lotSize                   -0.130200\n",
              "latitude                  -0.162350\n",
              "yearBuilt                 -0.273512\n",
              "Name: estimated_value, dtype: float64"
            ]
          },
          "metadata": {},
          "execution_count": 20
        }
      ]
    },
    {
      "cell_type": "markdown",
      "source": [
        "## 5.0 Data Mining"
      ],
      "metadata": {
        "id": "M0cVkFCTFtVD"
      }
    },
    {
      "cell_type": "code",
      "source": [
        "# Checking median value based on zipcode\n",
        "\n",
        "df2= df.groupby('zipcode').estimated_value.median().reset_index()\n",
        "df2.columns=['zipcode', 'median_value']\n",
        "df2"
      ],
      "metadata": {
        "colab": {
          "base_uri": "https://localhost:8080/",
          "height": 332
        },
        "id": "zy0aToqfFyA5",
        "outputId": "50bfc59b-baed-4599-cd54-c313581683d5"
      },
      "execution_count": 21,
      "outputs": [
        {
          "output_type": "execute_result",
          "data": {
            "text/html": [
              "\n",
              "  <div id=\"df-3a0da70d-98dd-4e9d-971b-96a7c7527d7d\">\n",
              "    <div class=\"colab-df-container\">\n",
              "      <div>\n",
              "<style scoped>\n",
              "    .dataframe tbody tr th:only-of-type {\n",
              "        vertical-align: middle;\n",
              "    }\n",
              "\n",
              "    .dataframe tbody tr th {\n",
              "        vertical-align: top;\n",
              "    }\n",
              "\n",
              "    .dataframe thead th {\n",
              "        text-align: right;\n",
              "    }\n",
              "</style>\n",
              "<table border=\"1\" class=\"dataframe\">\n",
              "  <thead>\n",
              "    <tr style=\"text-align: right;\">\n",
              "      <th></th>\n",
              "      <th>zipcode</th>\n",
              "      <th>median_value</th>\n",
              "    </tr>\n",
              "  </thead>\n",
              "  <tbody>\n",
              "    <tr>\n",
              "      <th>0</th>\n",
              "      <td>80022</td>\n",
              "      <td>239753.0</td>\n",
              "    </tr>\n",
              "    <tr>\n",
              "      <th>1</th>\n",
              "      <td>80033</td>\n",
              "      <td>494073.0</td>\n",
              "    </tr>\n",
              "    <tr>\n",
              "      <th>2</th>\n",
              "      <td>80123</td>\n",
              "      <td>427234.5</td>\n",
              "    </tr>\n",
              "    <tr>\n",
              "      <th>3</th>\n",
              "      <td>80203</td>\n",
              "      <td>555957.0</td>\n",
              "    </tr>\n",
              "    <tr>\n",
              "      <th>4</th>\n",
              "      <td>80204</td>\n",
              "      <td>351899.0</td>\n",
              "    </tr>\n",
              "    <tr>\n",
              "      <th>5</th>\n",
              "      <td>80205</td>\n",
              "      <td>464200.5</td>\n",
              "    </tr>\n",
              "    <tr>\n",
              "      <th>6</th>\n",
              "      <td>80206</td>\n",
              "      <td>649269.0</td>\n",
              "    </tr>\n",
              "    <tr>\n",
              "      <th>7</th>\n",
              "      <td>80207</td>\n",
              "      <td>436920.0</td>\n",
              "    </tr>\n",
              "    <tr>\n",
              "      <th>8</th>\n",
              "      <td>80209</td>\n",
              "      <td>637302.0</td>\n",
              "    </tr>\n",
              "  </tbody>\n",
              "</table>\n",
              "</div>\n",
              "      <button class=\"colab-df-convert\" onclick=\"convertToInteractive('df-3a0da70d-98dd-4e9d-971b-96a7c7527d7d')\"\n",
              "              title=\"Convert this dataframe to an interactive table.\"\n",
              "              style=\"display:none;\">\n",
              "        \n",
              "  <svg xmlns=\"http://www.w3.org/2000/svg\" height=\"24px\"viewBox=\"0 0 24 24\"\n",
              "       width=\"24px\">\n",
              "    <path d=\"M0 0h24v24H0V0z\" fill=\"none\"/>\n",
              "    <path d=\"M18.56 5.44l.94 2.06.94-2.06 2.06-.94-2.06-.94-.94-2.06-.94 2.06-2.06.94zm-11 1L8.5 8.5l.94-2.06 2.06-.94-2.06-.94L8.5 2.5l-.94 2.06-2.06.94zm10 10l.94 2.06.94-2.06 2.06-.94-2.06-.94-.94-2.06-.94 2.06-2.06.94z\"/><path d=\"M17.41 7.96l-1.37-1.37c-.4-.4-.92-.59-1.43-.59-.52 0-1.04.2-1.43.59L10.3 9.45l-7.72 7.72c-.78.78-.78 2.05 0 2.83L4 21.41c.39.39.9.59 1.41.59.51 0 1.02-.2 1.41-.59l7.78-7.78 2.81-2.81c.8-.78.8-2.07 0-2.86zM5.41 20L4 18.59l7.72-7.72 1.47 1.35L5.41 20z\"/>\n",
              "  </svg>\n",
              "      </button>\n",
              "      \n",
              "  <style>\n",
              "    .colab-df-container {\n",
              "      display:flex;\n",
              "      flex-wrap:wrap;\n",
              "      gap: 12px;\n",
              "    }\n",
              "\n",
              "    .colab-df-convert {\n",
              "      background-color: #E8F0FE;\n",
              "      border: none;\n",
              "      border-radius: 50%;\n",
              "      cursor: pointer;\n",
              "      display: none;\n",
              "      fill: #1967D2;\n",
              "      height: 32px;\n",
              "      padding: 0 0 0 0;\n",
              "      width: 32px;\n",
              "    }\n",
              "\n",
              "    .colab-df-convert:hover {\n",
              "      background-color: #E2EBFA;\n",
              "      box-shadow: 0px 1px 2px rgba(60, 64, 67, 0.3), 0px 1px 3px 1px rgba(60, 64, 67, 0.15);\n",
              "      fill: #174EA6;\n",
              "    }\n",
              "\n",
              "    [theme=dark] .colab-df-convert {\n",
              "      background-color: #3B4455;\n",
              "      fill: #D2E3FC;\n",
              "    }\n",
              "\n",
              "    [theme=dark] .colab-df-convert:hover {\n",
              "      background-color: #434B5C;\n",
              "      box-shadow: 0px 1px 3px 1px rgba(0, 0, 0, 0.15);\n",
              "      filter: drop-shadow(0px 1px 2px rgba(0, 0, 0, 0.3));\n",
              "      fill: #FFFFFF;\n",
              "    }\n",
              "  </style>\n",
              "\n",
              "      <script>\n",
              "        const buttonEl =\n",
              "          document.querySelector('#df-3a0da70d-98dd-4e9d-971b-96a7c7527d7d button.colab-df-convert');\n",
              "        buttonEl.style.display =\n",
              "          google.colab.kernel.accessAllowed ? 'block' : 'none';\n",
              "\n",
              "        async function convertToInteractive(key) {\n",
              "          const element = document.querySelector('#df-3a0da70d-98dd-4e9d-971b-96a7c7527d7d');\n",
              "          const dataTable =\n",
              "            await google.colab.kernel.invokeFunction('convertToInteractive',\n",
              "                                                     [key], {});\n",
              "          if (!dataTable) return;\n",
              "\n",
              "          const docLinkHtml = 'Like what you see? Visit the ' +\n",
              "            '<a target=\"_blank\" href=https://colab.research.google.com/notebooks/data_table.ipynb>data table notebook</a>'\n",
              "            + ' to learn more about interactive tables.';\n",
              "          element.innerHTML = '';\n",
              "          dataTable['output_type'] = 'display_data';\n",
              "          await google.colab.output.renderOutput(dataTable, element);\n",
              "          const docLink = document.createElement('div');\n",
              "          docLink.innerHTML = docLinkHtml;\n",
              "          element.appendChild(docLink);\n",
              "        }\n",
              "      </script>\n",
              "    </div>\n",
              "  </div>\n",
              "  "
            ],
            "text/plain": [
              "   zipcode  median_value\n",
              "0    80022      239753.0\n",
              "1    80033      494073.0\n",
              "2    80123      427234.5\n",
              "3    80203      555957.0\n",
              "4    80204      351899.0\n",
              "5    80205      464200.5\n",
              "6    80206      649269.0\n",
              "7    80207      436920.0\n",
              "8    80209      637302.0"
            ]
          },
          "metadata": {},
          "execution_count": 21
        }
      ]
    },
    {
      "cell_type": "code",
      "source": [
        "# Full details \n",
        "\n",
        "df3 = pd.merge(df, df2, on='zipcode', how='left')\n",
        "df3.head()"
      ],
      "metadata": {
        "colab": {
          "base_uri": "https://localhost:8080/",
          "height": 374
        },
        "id": "lEafpRTeGHR7",
        "outputId": "2692da98-df59-408a-831f-0d5b418bfb06"
      },
      "execution_count": 22,
      "outputs": [
        {
          "output_type": "execute_result",
          "data": {
            "text/html": [
              "\n",
              "  <div id=\"df-19fd4313-4210-43bb-8764-369de9fe21e7\">\n",
              "    <div class=\"colab-df-container\">\n",
              "      <div>\n",
              "<style scoped>\n",
              "    .dataframe tbody tr th:only-of-type {\n",
              "        vertical-align: middle;\n",
              "    }\n",
              "\n",
              "    .dataframe tbody tr th {\n",
              "        vertical-align: top;\n",
              "    }\n",
              "\n",
              "    .dataframe thead th {\n",
              "        text-align: right;\n",
              "    }\n",
              "</style>\n",
              "<table border=\"1\" class=\"dataframe\">\n",
              "  <thead>\n",
              "    <tr style=\"text-align: right;\">\n",
              "      <th></th>\n",
              "      <th>id</th>\n",
              "      <th>address</th>\n",
              "      <th>city</th>\n",
              "      <th>state</th>\n",
              "      <th>zipcode</th>\n",
              "      <th>latitude</th>\n",
              "      <th>longitude</th>\n",
              "      <th>bedrooms</th>\n",
              "      <th>bathrooms</th>\n",
              "      <th>rooms</th>\n",
              "      <th>squareFootage</th>\n",
              "      <th>lotSize</th>\n",
              "      <th>yearBuilt</th>\n",
              "      <th>lastSaleDate</th>\n",
              "      <th>lastSaleAmount</th>\n",
              "      <th>priorSaleDate</th>\n",
              "      <th>priorSaleAmount</th>\n",
              "      <th>estimated_value</th>\n",
              "      <th>weekday_lastSaleDate</th>\n",
              "      <th>year_lastSaleDate</th>\n",
              "      <th>weekday_priorSaleDate</th>\n",
              "      <th>year_priorSaleDate</th>\n",
              "      <th>year_between_last_sales</th>\n",
              "      <th>median_value</th>\n",
              "    </tr>\n",
              "  </thead>\n",
              "  <tbody>\n",
              "    <tr>\n",
              "      <th>0</th>\n",
              "      <td>39525749</td>\n",
              "      <td>8171 E 84th Ave</td>\n",
              "      <td>Denver</td>\n",
              "      <td>CO</td>\n",
              "      <td>80022</td>\n",
              "      <td>39.849160</td>\n",
              "      <td>-104.893468</td>\n",
              "      <td>3</td>\n",
              "      <td>2.0</td>\n",
              "      <td>6</td>\n",
              "      <td>1378</td>\n",
              "      <td>9968</td>\n",
              "      <td>2003.0</td>\n",
              "      <td>2009-12-17</td>\n",
              "      <td>75000</td>\n",
              "      <td>2004-05-13</td>\n",
              "      <td>165700.0</td>\n",
              "      <td>239753</td>\n",
              "      <td>3</td>\n",
              "      <td>2009</td>\n",
              "      <td>3</td>\n",
              "      <td>2004</td>\n",
              "      <td>5</td>\n",
              "      <td>239753.0</td>\n",
              "    </tr>\n",
              "    <tr>\n",
              "      <th>1</th>\n",
              "      <td>155129946</td>\n",
              "      <td>3040 Wadsworth Blvd</td>\n",
              "      <td>Denver</td>\n",
              "      <td>CO</td>\n",
              "      <td>80033</td>\n",
              "      <td>39.760780</td>\n",
              "      <td>-105.081060</td>\n",
              "      <td>4</td>\n",
              "      <td>3.0</td>\n",
              "      <td>0</td>\n",
              "      <td>2400</td>\n",
              "      <td>11500</td>\n",
              "      <td>1956.0</td>\n",
              "      <td>2008-12-02</td>\n",
              "      <td>185000</td>\n",
              "      <td>2008-06-27</td>\n",
              "      <td>0.0</td>\n",
              "      <td>494073</td>\n",
              "      <td>1</td>\n",
              "      <td>2008</td>\n",
              "      <td>4</td>\n",
              "      <td>2008</td>\n",
              "      <td>0</td>\n",
              "      <td>494073.0</td>\n",
              "    </tr>\n",
              "    <tr>\n",
              "      <th>2</th>\n",
              "      <td>245107</td>\n",
              "      <td>5615 S Eaton St</td>\n",
              "      <td>Denver</td>\n",
              "      <td>CO</td>\n",
              "      <td>80123</td>\n",
              "      <td>39.616181</td>\n",
              "      <td>-105.058812</td>\n",
              "      <td>3</td>\n",
              "      <td>4.0</td>\n",
              "      <td>8</td>\n",
              "      <td>2305</td>\n",
              "      <td>5600</td>\n",
              "      <td>1998.0</td>\n",
              "      <td>2012-07-18</td>\n",
              "      <td>308000</td>\n",
              "      <td>2011-12-29</td>\n",
              "      <td>0.0</td>\n",
              "      <td>513676</td>\n",
              "      <td>2</td>\n",
              "      <td>2012</td>\n",
              "      <td>3</td>\n",
              "      <td>2011</td>\n",
              "      <td>1</td>\n",
              "      <td>427234.5</td>\n",
              "    </tr>\n",
              "    <tr>\n",
              "      <th>3</th>\n",
              "      <td>3523925</td>\n",
              "      <td>6535 W Sumac Ave</td>\n",
              "      <td>Denver</td>\n",
              "      <td>CO</td>\n",
              "      <td>80123</td>\n",
              "      <td>39.615136</td>\n",
              "      <td>-105.069018</td>\n",
              "      <td>3</td>\n",
              "      <td>5.0</td>\n",
              "      <td>7</td>\n",
              "      <td>2051</td>\n",
              "      <td>6045</td>\n",
              "      <td>1996.0</td>\n",
              "      <td>2006-09-12</td>\n",
              "      <td>363500</td>\n",
              "      <td>2005-05-16</td>\n",
              "      <td>339000.0</td>\n",
              "      <td>496062</td>\n",
              "      <td>1</td>\n",
              "      <td>2006</td>\n",
              "      <td>0</td>\n",
              "      <td>2005</td>\n",
              "      <td>1</td>\n",
              "      <td>427234.5</td>\n",
              "    </tr>\n",
              "    <tr>\n",
              "      <th>4</th>\n",
              "      <td>30560679</td>\n",
              "      <td>6673 W Berry Ave</td>\n",
              "      <td>Denver</td>\n",
              "      <td>CO</td>\n",
              "      <td>80123</td>\n",
              "      <td>39.616350</td>\n",
              "      <td>-105.070760</td>\n",
              "      <td>4</td>\n",
              "      <td>4.0</td>\n",
              "      <td>8</td>\n",
              "      <td>2051</td>\n",
              "      <td>6315</td>\n",
              "      <td>1997.0</td>\n",
              "      <td>2014-12-15</td>\n",
              "      <td>420000</td>\n",
              "      <td>2006-07-07</td>\n",
              "      <td>345000.0</td>\n",
              "      <td>514953</td>\n",
              "      <td>0</td>\n",
              "      <td>2014</td>\n",
              "      <td>4</td>\n",
              "      <td>2006</td>\n",
              "      <td>8</td>\n",
              "      <td>427234.5</td>\n",
              "    </tr>\n",
              "  </tbody>\n",
              "</table>\n",
              "</div>\n",
              "      <button class=\"colab-df-convert\" onclick=\"convertToInteractive('df-19fd4313-4210-43bb-8764-369de9fe21e7')\"\n",
              "              title=\"Convert this dataframe to an interactive table.\"\n",
              "              style=\"display:none;\">\n",
              "        \n",
              "  <svg xmlns=\"http://www.w3.org/2000/svg\" height=\"24px\"viewBox=\"0 0 24 24\"\n",
              "       width=\"24px\">\n",
              "    <path d=\"M0 0h24v24H0V0z\" fill=\"none\"/>\n",
              "    <path d=\"M18.56 5.44l.94 2.06.94-2.06 2.06-.94-2.06-.94-.94-2.06-.94 2.06-2.06.94zm-11 1L8.5 8.5l.94-2.06 2.06-.94-2.06-.94L8.5 2.5l-.94 2.06-2.06.94zm10 10l.94 2.06.94-2.06 2.06-.94-2.06-.94-.94-2.06-.94 2.06-2.06.94z\"/><path d=\"M17.41 7.96l-1.37-1.37c-.4-.4-.92-.59-1.43-.59-.52 0-1.04.2-1.43.59L10.3 9.45l-7.72 7.72c-.78.78-.78 2.05 0 2.83L4 21.41c.39.39.9.59 1.41.59.51 0 1.02-.2 1.41-.59l7.78-7.78 2.81-2.81c.8-.78.8-2.07 0-2.86zM5.41 20L4 18.59l7.72-7.72 1.47 1.35L5.41 20z\"/>\n",
              "  </svg>\n",
              "      </button>\n",
              "      \n",
              "  <style>\n",
              "    .colab-df-container {\n",
              "      display:flex;\n",
              "      flex-wrap:wrap;\n",
              "      gap: 12px;\n",
              "    }\n",
              "\n",
              "    .colab-df-convert {\n",
              "      background-color: #E8F0FE;\n",
              "      border: none;\n",
              "      border-radius: 50%;\n",
              "      cursor: pointer;\n",
              "      display: none;\n",
              "      fill: #1967D2;\n",
              "      height: 32px;\n",
              "      padding: 0 0 0 0;\n",
              "      width: 32px;\n",
              "    }\n",
              "\n",
              "    .colab-df-convert:hover {\n",
              "      background-color: #E2EBFA;\n",
              "      box-shadow: 0px 1px 2px rgba(60, 64, 67, 0.3), 0px 1px 3px 1px rgba(60, 64, 67, 0.15);\n",
              "      fill: #174EA6;\n",
              "    }\n",
              "\n",
              "    [theme=dark] .colab-df-convert {\n",
              "      background-color: #3B4455;\n",
              "      fill: #D2E3FC;\n",
              "    }\n",
              "\n",
              "    [theme=dark] .colab-df-convert:hover {\n",
              "      background-color: #434B5C;\n",
              "      box-shadow: 0px 1px 3px 1px rgba(0, 0, 0, 0.15);\n",
              "      filter: drop-shadow(0px 1px 2px rgba(0, 0, 0, 0.3));\n",
              "      fill: #FFFFFF;\n",
              "    }\n",
              "  </style>\n",
              "\n",
              "      <script>\n",
              "        const buttonEl =\n",
              "          document.querySelector('#df-19fd4313-4210-43bb-8764-369de9fe21e7 button.colab-df-convert');\n",
              "        buttonEl.style.display =\n",
              "          google.colab.kernel.accessAllowed ? 'block' : 'none';\n",
              "\n",
              "        async function convertToInteractive(key) {\n",
              "          const element = document.querySelector('#df-19fd4313-4210-43bb-8764-369de9fe21e7');\n",
              "          const dataTable =\n",
              "            await google.colab.kernel.invokeFunction('convertToInteractive',\n",
              "                                                     [key], {});\n",
              "          if (!dataTable) return;\n",
              "\n",
              "          const docLinkHtml = 'Like what you see? Visit the ' +\n",
              "            '<a target=\"_blank\" href=https://colab.research.google.com/notebooks/data_table.ipynb>data table notebook</a>'\n",
              "            + ' to learn more about interactive tables.';\n",
              "          element.innerHTML = '';\n",
              "          dataTable['output_type'] = 'display_data';\n",
              "          await google.colab.output.renderOutput(dataTable, element);\n",
              "          const docLink = document.createElement('div');\n",
              "          docLink.innerHTML = docLinkHtml;\n",
              "          element.appendChild(docLink);\n",
              "        }\n",
              "      </script>\n",
              "    </div>\n",
              "  </div>\n",
              "  "
            ],
            "text/plain": [
              "          id              address  ... year_between_last_sales median_value\n",
              "0   39525749      8171 E 84th Ave  ...                       5     239753.0\n",
              "1  155129946  3040 Wadsworth Blvd  ...                       0     494073.0\n",
              "2     245107      5615 S Eaton St  ...                       1     427234.5\n",
              "3    3523925     6535 W Sumac Ave  ...                       1     427234.5\n",
              "4   30560679     6673 W Berry Ave  ...                       8     427234.5\n",
              "\n",
              "[5 rows x 24 columns]"
            ]
          },
          "metadata": {},
          "execution_count": 22
        }
      ]
    },
    {
      "cell_type": "code",
      "source": [
        "X = df.drop('estimated_value', axis=1)\n",
        "X= X[['bedrooms', 'bathrooms',  'rooms', 'squareFootage','lotSize', 'yearBuilt', 'priorSaleAmount']]\n",
        "X.fillna(0, inplace=True)\n",
        "X.head(2)"
      ],
      "metadata": {
        "id": "4kcZXKHirAsH",
        "colab": {
          "base_uri": "https://localhost:8080/",
          "height": 112
        },
        "outputId": "6cac0228-52e6-4f12-b417-76ae1eba30e5"
      },
      "execution_count": 23,
      "outputs": [
        {
          "output_type": "execute_result",
          "data": {
            "text/html": [
              "\n",
              "  <div id=\"df-702654cf-4970-4c1f-81c9-b21fc632ad49\">\n",
              "    <div class=\"colab-df-container\">\n",
              "      <div>\n",
              "<style scoped>\n",
              "    .dataframe tbody tr th:only-of-type {\n",
              "        vertical-align: middle;\n",
              "    }\n",
              "\n",
              "    .dataframe tbody tr th {\n",
              "        vertical-align: top;\n",
              "    }\n",
              "\n",
              "    .dataframe thead th {\n",
              "        text-align: right;\n",
              "    }\n",
              "</style>\n",
              "<table border=\"1\" class=\"dataframe\">\n",
              "  <thead>\n",
              "    <tr style=\"text-align: right;\">\n",
              "      <th></th>\n",
              "      <th>bedrooms</th>\n",
              "      <th>bathrooms</th>\n",
              "      <th>rooms</th>\n",
              "      <th>squareFootage</th>\n",
              "      <th>lotSize</th>\n",
              "      <th>yearBuilt</th>\n",
              "      <th>priorSaleAmount</th>\n",
              "    </tr>\n",
              "  </thead>\n",
              "  <tbody>\n",
              "    <tr>\n",
              "      <th>0</th>\n",
              "      <td>3</td>\n",
              "      <td>2.0</td>\n",
              "      <td>6</td>\n",
              "      <td>1378</td>\n",
              "      <td>9968</td>\n",
              "      <td>2003.0</td>\n",
              "      <td>165700.0</td>\n",
              "    </tr>\n",
              "    <tr>\n",
              "      <th>3</th>\n",
              "      <td>4</td>\n",
              "      <td>3.0</td>\n",
              "      <td>0</td>\n",
              "      <td>2400</td>\n",
              "      <td>11500</td>\n",
              "      <td>1956.0</td>\n",
              "      <td>0.0</td>\n",
              "    </tr>\n",
              "  </tbody>\n",
              "</table>\n",
              "</div>\n",
              "      <button class=\"colab-df-convert\" onclick=\"convertToInteractive('df-702654cf-4970-4c1f-81c9-b21fc632ad49')\"\n",
              "              title=\"Convert this dataframe to an interactive table.\"\n",
              "              style=\"display:none;\">\n",
              "        \n",
              "  <svg xmlns=\"http://www.w3.org/2000/svg\" height=\"24px\"viewBox=\"0 0 24 24\"\n",
              "       width=\"24px\">\n",
              "    <path d=\"M0 0h24v24H0V0z\" fill=\"none\"/>\n",
              "    <path d=\"M18.56 5.44l.94 2.06.94-2.06 2.06-.94-2.06-.94-.94-2.06-.94 2.06-2.06.94zm-11 1L8.5 8.5l.94-2.06 2.06-.94-2.06-.94L8.5 2.5l-.94 2.06-2.06.94zm10 10l.94 2.06.94-2.06 2.06-.94-2.06-.94-.94-2.06-.94 2.06-2.06.94z\"/><path d=\"M17.41 7.96l-1.37-1.37c-.4-.4-.92-.59-1.43-.59-.52 0-1.04.2-1.43.59L10.3 9.45l-7.72 7.72c-.78.78-.78 2.05 0 2.83L4 21.41c.39.39.9.59 1.41.59.51 0 1.02-.2 1.41-.59l7.78-7.78 2.81-2.81c.8-.78.8-2.07 0-2.86zM5.41 20L4 18.59l7.72-7.72 1.47 1.35L5.41 20z\"/>\n",
              "  </svg>\n",
              "      </button>\n",
              "      \n",
              "  <style>\n",
              "    .colab-df-container {\n",
              "      display:flex;\n",
              "      flex-wrap:wrap;\n",
              "      gap: 12px;\n",
              "    }\n",
              "\n",
              "    .colab-df-convert {\n",
              "      background-color: #E8F0FE;\n",
              "      border: none;\n",
              "      border-radius: 50%;\n",
              "      cursor: pointer;\n",
              "      display: none;\n",
              "      fill: #1967D2;\n",
              "      height: 32px;\n",
              "      padding: 0 0 0 0;\n",
              "      width: 32px;\n",
              "    }\n",
              "\n",
              "    .colab-df-convert:hover {\n",
              "      background-color: #E2EBFA;\n",
              "      box-shadow: 0px 1px 2px rgba(60, 64, 67, 0.3), 0px 1px 3px 1px rgba(60, 64, 67, 0.15);\n",
              "      fill: #174EA6;\n",
              "    }\n",
              "\n",
              "    [theme=dark] .colab-df-convert {\n",
              "      background-color: #3B4455;\n",
              "      fill: #D2E3FC;\n",
              "    }\n",
              "\n",
              "    [theme=dark] .colab-df-convert:hover {\n",
              "      background-color: #434B5C;\n",
              "      box-shadow: 0px 1px 3px 1px rgba(0, 0, 0, 0.15);\n",
              "      filter: drop-shadow(0px 1px 2px rgba(0, 0, 0, 0.3));\n",
              "      fill: #FFFFFF;\n",
              "    }\n",
              "  </style>\n",
              "\n",
              "      <script>\n",
              "        const buttonEl =\n",
              "          document.querySelector('#df-702654cf-4970-4c1f-81c9-b21fc632ad49 button.colab-df-convert');\n",
              "        buttonEl.style.display =\n",
              "          google.colab.kernel.accessAllowed ? 'block' : 'none';\n",
              "\n",
              "        async function convertToInteractive(key) {\n",
              "          const element = document.querySelector('#df-702654cf-4970-4c1f-81c9-b21fc632ad49');\n",
              "          const dataTable =\n",
              "            await google.colab.kernel.invokeFunction('convertToInteractive',\n",
              "                                                     [key], {});\n",
              "          if (!dataTable) return;\n",
              "\n",
              "          const docLinkHtml = 'Like what you see? Visit the ' +\n",
              "            '<a target=\"_blank\" href=https://colab.research.google.com/notebooks/data_table.ipynb>data table notebook</a>'\n",
              "            + ' to learn more about interactive tables.';\n",
              "          element.innerHTML = '';\n",
              "          dataTable['output_type'] = 'display_data';\n",
              "          await google.colab.output.renderOutput(dataTable, element);\n",
              "          const docLink = document.createElement('div');\n",
              "          docLink.innerHTML = docLinkHtml;\n",
              "          element.appendChild(docLink);\n",
              "        }\n",
              "      </script>\n",
              "    </div>\n",
              "  </div>\n",
              "  "
            ],
            "text/plain": [
              "   bedrooms  bathrooms  rooms  ...  lotSize  yearBuilt  priorSaleAmount\n",
              "0         3        2.0      6  ...     9968     2003.0         165700.0\n",
              "3         4        3.0      0  ...    11500     1956.0              0.0\n",
              "\n",
              "[2 rows x 7 columns]"
            ]
          },
          "metadata": {},
          "execution_count": 23
        }
      ]
    },
    {
      "cell_type": "markdown",
      "source": [
        "### 5.1 Cluster Analysis "
      ],
      "metadata": {
        "id": "i8WrUGQUG7qC"
      }
    },
    {
      "cell_type": "code",
      "source": [
        "from sklearn.cluster import KMeans\n",
        "from  sklearn.metrics import silhouette_score \n",
        "\n",
        "kmeans = KMeans(n_clusters=5, random_state=0).fit(X)\n",
        "kmeans"
      ],
      "metadata": {
        "colab": {
          "base_uri": "https://localhost:8080/"
        },
        "id": "LXeGFG-srTTq",
        "outputId": "5a101b44-007f-4b33-c086-13fecee1f8e8"
      },
      "execution_count": 24,
      "outputs": [
        {
          "output_type": "execute_result",
          "data": {
            "text/plain": [
              "KMeans(n_clusters=5, random_state=0)"
            ]
          },
          "metadata": {},
          "execution_count": 24
        }
      ]
    },
    {
      "cell_type": "code",
      "source": [
        "labels= kmeans.labels_\n",
        "labels"
      ],
      "metadata": {
        "id": "e_EahHsUru8t",
        "colab": {
          "base_uri": "https://localhost:8080/"
        },
        "outputId": "82f0e698-072d-44d8-b893-f07c12248fab"
      },
      "execution_count": 25,
      "outputs": [
        {
          "output_type": "execute_result",
          "data": {
            "text/plain": [
              "array([0, 2, 2, ..., 0, 1, 1], dtype=int32)"
            ]
          },
          "metadata": {},
          "execution_count": 25
        }
      ]
    },
    {
      "cell_type": "code",
      "source": [
        "len(kmeans.labels_), X.shape"
      ],
      "metadata": {
        "colab": {
          "base_uri": "https://localhost:8080/"
        },
        "id": "0PXg995hYU8z",
        "outputId": "38b0b7c7-df1b-41b1-d30a-d8025edae53a"
      },
      "execution_count": 26,
      "outputs": [
        {
          "output_type": "execute_result",
          "data": {
            "text/plain": [
              "(9505, (9505, 7))"
            ]
          },
          "metadata": {},
          "execution_count": 26
        }
      ]
    },
    {
      "cell_type": "code",
      "source": [
        "kmeans.cluster_centers_"
      ],
      "metadata": {
        "colab": {
          "base_uri": "https://localhost:8080/"
        },
        "id": "yqJYFCChrxsl",
        "outputId": "bfbd89e9-6575-4a9d-9a64-91e240cad441"
      },
      "execution_count": 27,
      "outputs": [
        {
          "output_type": "execute_result",
          "data": {
            "text/plain": [
              "array([[2.50149076e+00, 1.73732856e+00, 5.41293977e+00, 1.15814371e+03,\n",
              "        5.54791175e+03, 1.93033379e+03, 1.63199441e+05],\n",
              "       [2.68256579e+00, 2.37253289e+00, 6.44407895e+00, 1.50675905e+03,\n",
              "        5.23539638e+03, 1.92078701e+03, 4.32288421e+05],\n",
              "       [2.46803755e+00, 1.62516764e+00, 5.33839964e+00, 1.12971390e+03,\n",
              "        5.65352347e+03, 1.93032901e+03, 2.91220782e+04],\n",
              "       [2.85714286e+00, 2.28571429e+00, 6.57142857e+00, 1.82314286e+03,\n",
              "        7.13628571e+03, 1.92814286e+03, 3.09291429e+06],\n",
              "       [2.59234485e+00, 2.09401709e+00, 5.91304348e+00, 1.33534262e+03,\n",
              "        5.17816871e+03, 1.92334560e+03, 2.83578681e+05]])"
            ]
          },
          "metadata": {},
          "execution_count": 27
        }
      ]
    },
    {
      "cell_type": "code",
      "source": [
        "# Determine cluster and features\n",
        "kmeans.cluster_centers_.shape"
      ],
      "metadata": {
        "colab": {
          "base_uri": "https://localhost:8080/"
        },
        "id": "iH3Z7ND-YvgV",
        "outputId": "6f7d302b-8d5f-4d9b-968d-289f4af6b194"
      },
      "execution_count": 28,
      "outputs": [
        {
          "output_type": "execute_result",
          "data": {
            "text/plain": [
              "(5, 7)"
            ]
          },
          "metadata": {},
          "execution_count": 28
        }
      ]
    },
    {
      "cell_type": "code",
      "source": [
        "X['cluster'] = labels"
      ],
      "metadata": {
        "id": "mJq4VUWHr2aQ"
      },
      "execution_count": 29,
      "outputs": []
    },
    {
      "cell_type": "code",
      "source": [
        "X.groupby('cluster').mean()"
      ],
      "metadata": {
        "colab": {
          "base_uri": "https://localhost:8080/",
          "height": 0
        },
        "id": "Uv3g41xdr5SR",
        "outputId": "2accc18e-2476-4a3a-c550-72d6e3fc55b9"
      },
      "execution_count": 30,
      "outputs": [
        {
          "output_type": "execute_result",
          "data": {
            "text/html": [
              "\n",
              "  <div id=\"df-69ea4fca-9106-4706-8655-8f01feb1050f\">\n",
              "    <div class=\"colab-df-container\">\n",
              "      <div>\n",
              "<style scoped>\n",
              "    .dataframe tbody tr th:only-of-type {\n",
              "        vertical-align: middle;\n",
              "    }\n",
              "\n",
              "    .dataframe tbody tr th {\n",
              "        vertical-align: top;\n",
              "    }\n",
              "\n",
              "    .dataframe thead th {\n",
              "        text-align: right;\n",
              "    }\n",
              "</style>\n",
              "<table border=\"1\" class=\"dataframe\">\n",
              "  <thead>\n",
              "    <tr style=\"text-align: right;\">\n",
              "      <th></th>\n",
              "      <th>bedrooms</th>\n",
              "      <th>bathrooms</th>\n",
              "      <th>rooms</th>\n",
              "      <th>squareFootage</th>\n",
              "      <th>lotSize</th>\n",
              "      <th>yearBuilt</th>\n",
              "      <th>priorSaleAmount</th>\n",
              "    </tr>\n",
              "    <tr>\n",
              "      <th>cluster</th>\n",
              "      <th></th>\n",
              "      <th></th>\n",
              "      <th></th>\n",
              "      <th></th>\n",
              "      <th></th>\n",
              "      <th></th>\n",
              "      <th></th>\n",
              "    </tr>\n",
              "  </thead>\n",
              "  <tbody>\n",
              "    <tr>\n",
              "      <th>0</th>\n",
              "      <td>2.501491</td>\n",
              "      <td>1.737329</td>\n",
              "      <td>5.412940</td>\n",
              "      <td>1158.143709</td>\n",
              "      <td>5547.911747</td>\n",
              "      <td>1930.333786</td>\n",
              "      <td>1.631994e+05</td>\n",
              "    </tr>\n",
              "    <tr>\n",
              "      <th>1</th>\n",
              "      <td>2.682305</td>\n",
              "      <td>2.372016</td>\n",
              "      <td>6.444444</td>\n",
              "      <td>1506.700412</td>\n",
              "      <td>5234.413169</td>\n",
              "      <td>1920.804115</td>\n",
              "      <td>4.323496e+05</td>\n",
              "    </tr>\n",
              "    <tr>\n",
              "      <th>2</th>\n",
              "      <td>2.468038</td>\n",
              "      <td>1.625168</td>\n",
              "      <td>5.338400</td>\n",
              "      <td>1129.713903</td>\n",
              "      <td>5653.523469</td>\n",
              "      <td>1930.329012</td>\n",
              "      <td>2.912208e+04</td>\n",
              "    </tr>\n",
              "    <tr>\n",
              "      <th>3</th>\n",
              "      <td>2.857143</td>\n",
              "      <td>2.285714</td>\n",
              "      <td>6.571429</td>\n",
              "      <td>1823.142857</td>\n",
              "      <td>7136.285714</td>\n",
              "      <td>1928.142857</td>\n",
              "      <td>3.092914e+06</td>\n",
              "    </tr>\n",
              "    <tr>\n",
              "      <th>4</th>\n",
              "      <td>2.592496</td>\n",
              "      <td>2.094354</td>\n",
              "      <td>5.913076</td>\n",
              "      <td>1335.432764</td>\n",
              "      <td>5178.633730</td>\n",
              "      <td>1923.336924</td>\n",
              "      <td>2.836063e+05</td>\n",
              "    </tr>\n",
              "  </tbody>\n",
              "</table>\n",
              "</div>\n",
              "      <button class=\"colab-df-convert\" onclick=\"convertToInteractive('df-69ea4fca-9106-4706-8655-8f01feb1050f')\"\n",
              "              title=\"Convert this dataframe to an interactive table.\"\n",
              "              style=\"display:none;\">\n",
              "        \n",
              "  <svg xmlns=\"http://www.w3.org/2000/svg\" height=\"24px\"viewBox=\"0 0 24 24\"\n",
              "       width=\"24px\">\n",
              "    <path d=\"M0 0h24v24H0V0z\" fill=\"none\"/>\n",
              "    <path d=\"M18.56 5.44l.94 2.06.94-2.06 2.06-.94-2.06-.94-.94-2.06-.94 2.06-2.06.94zm-11 1L8.5 8.5l.94-2.06 2.06-.94-2.06-.94L8.5 2.5l-.94 2.06-2.06.94zm10 10l.94 2.06.94-2.06 2.06-.94-2.06-.94-.94-2.06-.94 2.06-2.06.94z\"/><path d=\"M17.41 7.96l-1.37-1.37c-.4-.4-.92-.59-1.43-.59-.52 0-1.04.2-1.43.59L10.3 9.45l-7.72 7.72c-.78.78-.78 2.05 0 2.83L4 21.41c.39.39.9.59 1.41.59.51 0 1.02-.2 1.41-.59l7.78-7.78 2.81-2.81c.8-.78.8-2.07 0-2.86zM5.41 20L4 18.59l7.72-7.72 1.47 1.35L5.41 20z\"/>\n",
              "  </svg>\n",
              "      </button>\n",
              "      \n",
              "  <style>\n",
              "    .colab-df-container {\n",
              "      display:flex;\n",
              "      flex-wrap:wrap;\n",
              "      gap: 12px;\n",
              "    }\n",
              "\n",
              "    .colab-df-convert {\n",
              "      background-color: #E8F0FE;\n",
              "      border: none;\n",
              "      border-radius: 50%;\n",
              "      cursor: pointer;\n",
              "      display: none;\n",
              "      fill: #1967D2;\n",
              "      height: 32px;\n",
              "      padding: 0 0 0 0;\n",
              "      width: 32px;\n",
              "    }\n",
              "\n",
              "    .colab-df-convert:hover {\n",
              "      background-color: #E2EBFA;\n",
              "      box-shadow: 0px 1px 2px rgba(60, 64, 67, 0.3), 0px 1px 3px 1px rgba(60, 64, 67, 0.15);\n",
              "      fill: #174EA6;\n",
              "    }\n",
              "\n",
              "    [theme=dark] .colab-df-convert {\n",
              "      background-color: #3B4455;\n",
              "      fill: #D2E3FC;\n",
              "    }\n",
              "\n",
              "    [theme=dark] .colab-df-convert:hover {\n",
              "      background-color: #434B5C;\n",
              "      box-shadow: 0px 1px 3px 1px rgba(0, 0, 0, 0.15);\n",
              "      filter: drop-shadow(0px 1px 2px rgba(0, 0, 0, 0.3));\n",
              "      fill: #FFFFFF;\n",
              "    }\n",
              "  </style>\n",
              "\n",
              "      <script>\n",
              "        const buttonEl =\n",
              "          document.querySelector('#df-69ea4fca-9106-4706-8655-8f01feb1050f button.colab-df-convert');\n",
              "        buttonEl.style.display =\n",
              "          google.colab.kernel.accessAllowed ? 'block' : 'none';\n",
              "\n",
              "        async function convertToInteractive(key) {\n",
              "          const element = document.querySelector('#df-69ea4fca-9106-4706-8655-8f01feb1050f');\n",
              "          const dataTable =\n",
              "            await google.colab.kernel.invokeFunction('convertToInteractive',\n",
              "                                                     [key], {});\n",
              "          if (!dataTable) return;\n",
              "\n",
              "          const docLinkHtml = 'Like what you see? Visit the ' +\n",
              "            '<a target=\"_blank\" href=https://colab.research.google.com/notebooks/data_table.ipynb>data table notebook</a>'\n",
              "            + ' to learn more about interactive tables.';\n",
              "          element.innerHTML = '';\n",
              "          dataTable['output_type'] = 'display_data';\n",
              "          await google.colab.output.renderOutput(dataTable, element);\n",
              "          const docLink = document.createElement('div');\n",
              "          docLink.innerHTML = docLinkHtml;\n",
              "          element.appendChild(docLink);\n",
              "        }\n",
              "      </script>\n",
              "    </div>\n",
              "  </div>\n",
              "  "
            ],
            "text/plain": [
              "         bedrooms  bathrooms  ...    yearBuilt  priorSaleAmount\n",
              "cluster                       ...                              \n",
              "0        2.501491   1.737329  ...  1930.333786     1.631994e+05\n",
              "1        2.682305   2.372016  ...  1920.804115     4.323496e+05\n",
              "2        2.468038   1.625168  ...  1930.329012     2.912208e+04\n",
              "3        2.857143   2.285714  ...  1928.142857     3.092914e+06\n",
              "4        2.592496   2.094354  ...  1923.336924     2.836063e+05\n",
              "\n",
              "[5 rows x 7 columns]"
            ]
          },
          "metadata": {},
          "execution_count": 30
        }
      ]
    },
    {
      "cell_type": "code",
      "source": [
        "X= X.drop('cluster', axis=1)"
      ],
      "metadata": {
        "id": "ATADl-JAr9z6"
      },
      "execution_count": 31,
      "outputs": []
    },
    {
      "cell_type": "code",
      "source": [
        "for i in range(3, 10):\n",
        "    kmeans=KMeans(n_clusters=i).fit(X)\n",
        "    labels = kmeans.labels_\n",
        "    print (silhouette_score(X,  labels))\n",
        " "
      ],
      "metadata": {
        "colab": {
          "base_uri": "https://localhost:8080/"
        },
        "id": "CC2XFwe-sBS1",
        "outputId": "4b47c5f1-6c63-4177-828c-bc7e07f5eb34"
      },
      "execution_count": 32,
      "outputs": [
        {
          "output_type": "stream",
          "name": "stdout",
          "text": [
            "0.5633351575280513\n",
            "0.5543106726009864\n",
            "0.5614023520824788\n",
            "0.5548821056614371\n",
            "0.569687071157063\n",
            "0.5705247655138984\n",
            "0.5682647590391366\n"
          ]
        }
      ]
    },
    {
      "cell_type": "markdown",
      "source": [
        "7.0 Classification And Regression"
      ],
      "metadata": {
        "id": "WKuxH3jKJnWL"
      }
    },
    {
      "cell_type": "code",
      "source": [
        "from sklearn.linear_model import LinearRegression, LogisticRegression \n",
        "\n",
        "from sklearn.svm import SVC, SVR\n",
        "\n",
        "from sklearn.neighbors import KNeighborsClassifier , KNeighborsRegressor\n",
        "from sklearn.model_selection import train_test_split\n",
        "from sklearn.metrics import confusion_matrix"
      ],
      "metadata": {
        "id": "P8OFV5x2s6nm"
      },
      "execution_count": 33,
      "outputs": []
    },
    {
      "cell_type": "code",
      "source": [
        "X.head()"
      ],
      "metadata": {
        "colab": {
          "base_uri": "https://localhost:8080/",
          "height": 0
        },
        "id": "2pmDosgZvpnw",
        "outputId": "7054138c-2b44-4112-aa00-9ef49d9893f8"
      },
      "execution_count": 34,
      "outputs": [
        {
          "output_type": "execute_result",
          "data": {
            "text/html": [
              "\n",
              "  <div id=\"df-4fcb8b6c-c8f4-48b6-933f-dde56faf22a4\">\n",
              "    <div class=\"colab-df-container\">\n",
              "      <div>\n",
              "<style scoped>\n",
              "    .dataframe tbody tr th:only-of-type {\n",
              "        vertical-align: middle;\n",
              "    }\n",
              "\n",
              "    .dataframe tbody tr th {\n",
              "        vertical-align: top;\n",
              "    }\n",
              "\n",
              "    .dataframe thead th {\n",
              "        text-align: right;\n",
              "    }\n",
              "</style>\n",
              "<table border=\"1\" class=\"dataframe\">\n",
              "  <thead>\n",
              "    <tr style=\"text-align: right;\">\n",
              "      <th></th>\n",
              "      <th>bedrooms</th>\n",
              "      <th>bathrooms</th>\n",
              "      <th>rooms</th>\n",
              "      <th>squareFootage</th>\n",
              "      <th>lotSize</th>\n",
              "      <th>yearBuilt</th>\n",
              "      <th>priorSaleAmount</th>\n",
              "    </tr>\n",
              "  </thead>\n",
              "  <tbody>\n",
              "    <tr>\n",
              "      <th>0</th>\n",
              "      <td>3</td>\n",
              "      <td>2.0</td>\n",
              "      <td>6</td>\n",
              "      <td>1378</td>\n",
              "      <td>9968</td>\n",
              "      <td>2003.0</td>\n",
              "      <td>165700.0</td>\n",
              "    </tr>\n",
              "    <tr>\n",
              "      <th>3</th>\n",
              "      <td>4</td>\n",
              "      <td>3.0</td>\n",
              "      <td>0</td>\n",
              "      <td>2400</td>\n",
              "      <td>11500</td>\n",
              "      <td>1956.0</td>\n",
              "      <td>0.0</td>\n",
              "    </tr>\n",
              "    <tr>\n",
              "      <th>4</th>\n",
              "      <td>3</td>\n",
              "      <td>4.0</td>\n",
              "      <td>8</td>\n",
              "      <td>2305</td>\n",
              "      <td>5600</td>\n",
              "      <td>1998.0</td>\n",
              "      <td>0.0</td>\n",
              "    </tr>\n",
              "    <tr>\n",
              "      <th>5</th>\n",
              "      <td>3</td>\n",
              "      <td>5.0</td>\n",
              "      <td>7</td>\n",
              "      <td>2051</td>\n",
              "      <td>6045</td>\n",
              "      <td>1996.0</td>\n",
              "      <td>339000.0</td>\n",
              "    </tr>\n",
              "    <tr>\n",
              "      <th>6</th>\n",
              "      <td>4</td>\n",
              "      <td>4.0</td>\n",
              "      <td>8</td>\n",
              "      <td>2051</td>\n",
              "      <td>6315</td>\n",
              "      <td>1997.0</td>\n",
              "      <td>345000.0</td>\n",
              "    </tr>\n",
              "  </tbody>\n",
              "</table>\n",
              "</div>\n",
              "      <button class=\"colab-df-convert\" onclick=\"convertToInteractive('df-4fcb8b6c-c8f4-48b6-933f-dde56faf22a4')\"\n",
              "              title=\"Convert this dataframe to an interactive table.\"\n",
              "              style=\"display:none;\">\n",
              "        \n",
              "  <svg xmlns=\"http://www.w3.org/2000/svg\" height=\"24px\"viewBox=\"0 0 24 24\"\n",
              "       width=\"24px\">\n",
              "    <path d=\"M0 0h24v24H0V0z\" fill=\"none\"/>\n",
              "    <path d=\"M18.56 5.44l.94 2.06.94-2.06 2.06-.94-2.06-.94-.94-2.06-.94 2.06-2.06.94zm-11 1L8.5 8.5l.94-2.06 2.06-.94-2.06-.94L8.5 2.5l-.94 2.06-2.06.94zm10 10l.94 2.06.94-2.06 2.06-.94-2.06-.94-.94-2.06-.94 2.06-2.06.94z\"/><path d=\"M17.41 7.96l-1.37-1.37c-.4-.4-.92-.59-1.43-.59-.52 0-1.04.2-1.43.59L10.3 9.45l-7.72 7.72c-.78.78-.78 2.05 0 2.83L4 21.41c.39.39.9.59 1.41.59.51 0 1.02-.2 1.41-.59l7.78-7.78 2.81-2.81c.8-.78.8-2.07 0-2.86zM5.41 20L4 18.59l7.72-7.72 1.47 1.35L5.41 20z\"/>\n",
              "  </svg>\n",
              "      </button>\n",
              "      \n",
              "  <style>\n",
              "    .colab-df-container {\n",
              "      display:flex;\n",
              "      flex-wrap:wrap;\n",
              "      gap: 12px;\n",
              "    }\n",
              "\n",
              "    .colab-df-convert {\n",
              "      background-color: #E8F0FE;\n",
              "      border: none;\n",
              "      border-radius: 50%;\n",
              "      cursor: pointer;\n",
              "      display: none;\n",
              "      fill: #1967D2;\n",
              "      height: 32px;\n",
              "      padding: 0 0 0 0;\n",
              "      width: 32px;\n",
              "    }\n",
              "\n",
              "    .colab-df-convert:hover {\n",
              "      background-color: #E2EBFA;\n",
              "      box-shadow: 0px 1px 2px rgba(60, 64, 67, 0.3), 0px 1px 3px 1px rgba(60, 64, 67, 0.15);\n",
              "      fill: #174EA6;\n",
              "    }\n",
              "\n",
              "    [theme=dark] .colab-df-convert {\n",
              "      background-color: #3B4455;\n",
              "      fill: #D2E3FC;\n",
              "    }\n",
              "\n",
              "    [theme=dark] .colab-df-convert:hover {\n",
              "      background-color: #434B5C;\n",
              "      box-shadow: 0px 1px 3px 1px rgba(0, 0, 0, 0.15);\n",
              "      filter: drop-shadow(0px 1px 2px rgba(0, 0, 0, 0.3));\n",
              "      fill: #FFFFFF;\n",
              "    }\n",
              "  </style>\n",
              "\n",
              "      <script>\n",
              "        const buttonEl =\n",
              "          document.querySelector('#df-4fcb8b6c-c8f4-48b6-933f-dde56faf22a4 button.colab-df-convert');\n",
              "        buttonEl.style.display =\n",
              "          google.colab.kernel.accessAllowed ? 'block' : 'none';\n",
              "\n",
              "        async function convertToInteractive(key) {\n",
              "          const element = document.querySelector('#df-4fcb8b6c-c8f4-48b6-933f-dde56faf22a4');\n",
              "          const dataTable =\n",
              "            await google.colab.kernel.invokeFunction('convertToInteractive',\n",
              "                                                     [key], {});\n",
              "          if (!dataTable) return;\n",
              "\n",
              "          const docLinkHtml = 'Like what you see? Visit the ' +\n",
              "            '<a target=\"_blank\" href=https://colab.research.google.com/notebooks/data_table.ipynb>data table notebook</a>'\n",
              "            + ' to learn more about interactive tables.';\n",
              "          element.innerHTML = '';\n",
              "          dataTable['output_type'] = 'display_data';\n",
              "          await google.colab.output.renderOutput(dataTable, element);\n",
              "          const docLink = document.createElement('div');\n",
              "          docLink.innerHTML = docLinkHtml;\n",
              "          element.appendChild(docLink);\n",
              "        }\n",
              "      </script>\n",
              "    </div>\n",
              "  </div>\n",
              "  "
            ],
            "text/plain": [
              "   bedrooms  bathrooms  rooms  ...  lotSize  yearBuilt  priorSaleAmount\n",
              "0         3        2.0      6  ...     9968     2003.0         165700.0\n",
              "3         4        3.0      0  ...    11500     1956.0              0.0\n",
              "4         3        4.0      8  ...     5600     1998.0              0.0\n",
              "5         3        5.0      7  ...     6045     1996.0         339000.0\n",
              "6         4        4.0      8  ...     6315     1997.0         345000.0\n",
              "\n",
              "[5 rows x 7 columns]"
            ]
          },
          "metadata": {},
          "execution_count": 34
        }
      ]
    },
    {
      "cell_type": "code",
      "source": [
        "y=df.estimated_value \n"
      ],
      "metadata": {
        "id": "nBU8UInevuYJ"
      },
      "execution_count": 35,
      "outputs": []
    },
    {
      "cell_type": "code",
      "source": [
        "lg = LinearRegression()\n",
        "lg.fit(X,y) #training \n",
        "lg.score(X,y) "
      ],
      "metadata": {
        "colab": {
          "base_uri": "https://localhost:8080/"
        },
        "id": "ej9dCqbfvydX",
        "outputId": "cc89ceea-d69f-476b-d1c5-db1249d5d25a"
      },
      "execution_count": 36,
      "outputs": [
        {
          "output_type": "execute_result",
          "data": {
            "text/plain": [
              "0.6203217417470884"
            ]
          },
          "metadata": {},
          "execution_count": 36
        }
      ]
    },
    {
      "cell_type": "code",
      "source": [
        "X_train, X_test,  y_train, y_test= train_test_split(X,y)"
      ],
      "metadata": {
        "id": "N2DpDVAVv5ln"
      },
      "execution_count": 37,
      "outputs": []
    },
    {
      "cell_type": "code",
      "source": [
        "X_train.shape, y_train.shape "
      ],
      "metadata": {
        "colab": {
          "base_uri": "https://localhost:8080/"
        },
        "id": "YJWjDC9xv8OI",
        "outputId": "431808f5-0196-4867-fa51-cd0656a257a5"
      },
      "execution_count": 38,
      "outputs": [
        {
          "output_type": "execute_result",
          "data": {
            "text/plain": [
              "((7128, 7), (7128,))"
            ]
          },
          "metadata": {},
          "execution_count": 38
        }
      ]
    },
    {
      "cell_type": "code",
      "source": [
        "lg = LinearRegression()\n",
        "lg.fit(X_train,y_train) # training , fit \n",
        "lg.score(X_test,y_test) # evaluate , score, R2 "
      ],
      "metadata": {
        "colab": {
          "base_uri": "https://localhost:8080/"
        },
        "id": "urZ8B_ihwAUR",
        "outputId": "c7b4f80e-2e29-43ad-c9fc-2cf77fabe0f5"
      },
      "execution_count": 39,
      "outputs": [
        {
          "output_type": "execute_result",
          "data": {
            "text/plain": [
              "0.6047350701550862"
            ]
          },
          "metadata": {},
          "execution_count": 39
        }
      ]
    },
    {
      "cell_type": "code",
      "source": [
        "df['estimated_value_bins']=df.estimated_value.apply(lambda x: 'high' if x> 500000 else 'low')\n",
        "df.estimated_value_bins.value_counts()"
      ],
      "metadata": {
        "colab": {
          "base_uri": "https://localhost:8080/"
        },
        "id": "_OOIqmCowDux",
        "outputId": "317bf9c1-2dbe-4fc2-cfd3-18a1612820c6"
      },
      "execution_count": 40,
      "outputs": [
        {
          "output_type": "execute_result",
          "data": {
            "text/plain": [
              "low     5266\n",
              "high    4239\n",
              "Name: estimated_value_bins, dtype: int64"
            ]
          },
          "metadata": {},
          "execution_count": 40
        }
      ]
    },
    {
      "cell_type": "code",
      "source": [
        ""
      ],
      "metadata": {
        "id": "zcDurP1mwMh0"
      },
      "execution_count": 40,
      "outputs": []
    },
    {
      "cell_type": "code",
      "source": [
        "y2= df.estimated_value_bins\n",
        "log = LogisticRegression() "
      ],
      "metadata": {
        "id": "_Vr5gbaPwJqQ"
      },
      "execution_count": 41,
      "outputs": []
    },
    {
      "cell_type": "code",
      "source": [
        "X_train, X_test,  y2_train, y2_test= train_test_split(X,y2)\n",
        "log.fit(X_train, y2_train)\n",
        "log.score(X_test, y2_test)"
      ],
      "metadata": {
        "colab": {
          "base_uri": "https://localhost:8080/"
        },
        "id": "MUTv9JMUwNvA",
        "outputId": "c7a8998b-6882-4ba0-c403-937df663394a"
      },
      "execution_count": 42,
      "outputs": [
        {
          "output_type": "execute_result",
          "data": {
            "text/plain": [
              "0.8186790071518721"
            ]
          },
          "metadata": {},
          "execution_count": 42
        }
      ]
    },
    {
      "cell_type": "code",
      "source": [
        "y_pred = log.predict(X_test)\n",
        "np.array(y2_test)\n"
      ],
      "metadata": {
        "colab": {
          "base_uri": "https://localhost:8080/"
        },
        "id": "w5qGJll3wjCH",
        "outputId": "7cee8bc4-df71-413b-870c-9dfcf5598d26"
      },
      "execution_count": 43,
      "outputs": [
        {
          "output_type": "execute_result",
          "data": {
            "text/plain": [
              "array(['high', 'high', 'low', ..., 'high', 'low', 'high'], dtype=object)"
            ]
          },
          "metadata": {},
          "execution_count": 43
        }
      ]
    },
    {
      "cell_type": "code",
      "source": [
        "confusion_matrix(y2_test,y_pred )"
      ],
      "metadata": {
        "colab": {
          "base_uri": "https://localhost:8080/"
        },
        "id": "LMnk5hHgwwx1",
        "outputId": "cb74720c-f0b2-4e82-ea55-ca61be03b61f"
      },
      "execution_count": 44,
      "outputs": [
        {
          "output_type": "execute_result",
          "data": {
            "text/plain": [
              "array([[ 825,  255],\n",
              "       [ 176, 1121]])"
            ]
          },
          "metadata": {},
          "execution_count": 44
        }
      ]
    },
    {
      "cell_type": "code",
      "source": [
        "from IPython.display import Image\n",
        "Image('svm.png')\n",
        "print ('Support Vector Machine')"
      ],
      "metadata": {
        "colab": {
          "base_uri": "https://localhost:8080/"
        },
        "id": "BrW1AO8Ew6Ep",
        "outputId": "43d2e4bb-0b45-4ac6-e222-ba9d89efab09"
      },
      "execution_count": 45,
      "outputs": [
        {
          "output_type": "stream",
          "name": "stdout",
          "text": [
            "Support Vector Machine\n"
          ]
        }
      ]
    },
    {
      "cell_type": "code",
      "source": [
        "svr= SVR() \n",
        "svr.fit(X_train, y_train)\n",
        "svr.score(X_test, y_test) \n",
        "# not so great "
      ],
      "metadata": {
        "colab": {
          "base_uri": "https://localhost:8080/"
        },
        "id": "e4jxifoPw8zI",
        "outputId": "a6e18672-4729-44f5-920a-f5201a12f4d4"
      },
      "execution_count": 46,
      "outputs": [
        {
          "output_type": "execute_result",
          "data": {
            "text/plain": [
              "-0.04326092442739804"
            ]
          },
          "metadata": {},
          "execution_count": 46
        }
      ]
    },
    {
      "cell_type": "code",
      "source": [
        "svc= SVC() \n",
        "svc.fit(X_train, y2_train)\n",
        "svc.score(X_test, y2_test) "
      ],
      "metadata": {
        "colab": {
          "base_uri": "https://localhost:8080/"
        },
        "id": "fQnKbwhcxIDD",
        "outputId": "e545724f-f950-457a-d4af-26989b6ddc03"
      },
      "execution_count": 47,
      "outputs": [
        {
          "output_type": "execute_result",
          "data": {
            "text/plain": [
              "0.7766091712242322"
            ]
          },
          "metadata": {},
          "execution_count": 47
        }
      ]
    },
    {
      "cell_type": "code",
      "source": [
        "y2_pred=svc.predict(X_test)\n",
        "confusion_matrix(y2_test, y2_pred)"
      ],
      "metadata": {
        "colab": {
          "base_uri": "https://localhost:8080/"
        },
        "id": "kS0UIKiKxMUr",
        "outputId": "1845af4c-4b54-4f41-9bcb-9dbcc0ababd4"
      },
      "execution_count": 48,
      "outputs": [
        {
          "output_type": "execute_result",
          "data": {
            "text/plain": [
              "array([[ 701,  379],\n",
              "       [ 152, 1145]])"
            ]
          },
          "metadata": {},
          "execution_count": 48
        }
      ]
    },
    {
      "cell_type": "code",
      "source": [
        "sns.heatmap(df.corr())"
      ],
      "metadata": {
        "colab": {
          "base_uri": "https://localhost:8080/",
          "height": 0
        },
        "id": "MXIz3ySIxVWR",
        "outputId": "8d81bace-b71c-4c7d-cc59-44513a1aef73"
      },
      "execution_count": 49,
      "outputs": [
        {
          "output_type": "execute_result",
          "data": {
            "text/plain": [
              "<matplotlib.axes._subplots.AxesSubplot at 0x7fc3d306a450>"
            ]
          },
          "metadata": {},
          "execution_count": 49
        },
        {
          "output_type": "display_data",
          "data": {
            "image/png": "[encoded data removed]",
            "text/plain": [
              "<Figure size 432x288 with 2 Axes>"
            ]
          },
          "metadata": {
            "needs_background": "light"
          }
        }
      ]
    },
    {
      "cell_type": "code",
      "source": [
        "df.cov()"
      ],
      "metadata": {
        "colab": {
          "base_uri": "https://localhost:8080/",
          "height": 0
        },
        "id": "cULLQkOrxhqE",
        "outputId": "5b9fd0b6-df35-400a-da76-ac977ab9d144"
      },
      "execution_count": 50,
      "outputs": [
        {
          "output_type": "execute_result",
          "data": {
            "text/html": [
              "\n",
              "  <div id=\"df-d1c08eab-b525-433f-9544-b13133d5fb19\">\n",
              "    <div class=\"colab-df-container\">\n",
              "      <div>\n",
              "<style scoped>\n",
              "    .dataframe tbody tr th:only-of-type {\n",
              "        vertical-align: middle;\n",
              "    }\n",
              "\n",
              "    .dataframe tbody tr th {\n",
              "        vertical-align: top;\n",
              "    }\n",
              "\n",
              "    .dataframe thead th {\n",
              "        text-align: right;\n",
              "    }\n",
              "</style>\n",
              "<table border=\"1\" class=\"dataframe\">\n",
              "  <thead>\n",
              "    <tr style=\"text-align: right;\">\n",
              "      <th></th>\n",
              "      <th>id</th>\n",
              "      <th>zipcode</th>\n",
              "      <th>latitude</th>\n",
              "      <th>longitude</th>\n",
              "      <th>bedrooms</th>\n",
              "      <th>bathrooms</th>\n",
              "      <th>rooms</th>\n",
              "      <th>squareFootage</th>\n",
              "      <th>lotSize</th>\n",
              "      <th>yearBuilt</th>\n",
              "      <th>lastSaleAmount</th>\n",
              "      <th>priorSaleAmount</th>\n",
              "      <th>estimated_value</th>\n",
              "      <th>weekday_lastSaleDate</th>\n",
              "      <th>year_lastSaleDate</th>\n",
              "      <th>weekday_priorSaleDate</th>\n",
              "      <th>year_priorSaleDate</th>\n",
              "      <th>year_between_last_sales</th>\n",
              "    </tr>\n",
              "  </thead>\n",
              "  <tbody>\n",
              "    <tr>\n",
              "      <th>id</th>\n",
              "      <td>2.959910e+15</td>\n",
              "      <td>-8.705458e+06</td>\n",
              "      <td>-47752.131531</td>\n",
              "      <td>93236.832727</td>\n",
              "      <td>1.276050e+06</td>\n",
              "      <td>3.836301e+06</td>\n",
              "      <td>3.358841e+06</td>\n",
              "      <td>1.883294e+09</td>\n",
              "      <td>-2.699986e+09</td>\n",
              "      <td>-1.634199e+07</td>\n",
              "      <td>1.722076e+12</td>\n",
              "      <td>9.258050e+10</td>\n",
              "      <td>9.080904e+11</td>\n",
              "      <td>-245987.215205</td>\n",
              "      <td>5.190845e+07</td>\n",
              "      <td>994710.772587</td>\n",
              "      <td>-1.330764e+07</td>\n",
              "      <td>6.521609e+07</td>\n",
              "    </tr>\n",
              "    <tr>\n",
              "      <th>zipcode</th>\n",
              "      <td>-8.705458e+06</td>\n",
              "      <td>9.565335e+01</td>\n",
              "      <td>0.123173</td>\n",
              "      <td>0.160960</td>\n",
              "      <td>-4.371180e-01</td>\n",
              "      <td>-8.253896e-01</td>\n",
              "      <td>-2.533268e-01</td>\n",
              "      <td>-5.154014e+02</td>\n",
              "      <td>-1.342655e+03</td>\n",
              "      <td>-6.142796e+01</td>\n",
              "      <td>7.154451e+04</td>\n",
              "      <td>-9.349284e+03</td>\n",
              "      <td>1.302661e+05</td>\n",
              "      <td>-0.054843</td>\n",
              "      <td>1.313042e+00</td>\n",
              "      <td>-0.302363</td>\n",
              "      <td>2.216033e+00</td>\n",
              "      <td>-9.029912e-01</td>\n",
              "    </tr>\n",
              "    <tr>\n",
              "      <th>latitude</th>\n",
              "      <td>-4.775213e+04</td>\n",
              "      <td>1.231727e-01</td>\n",
              "      <td>0.000518</td>\n",
              "      <td>0.000545</td>\n",
              "      <td>-1.288038e-04</td>\n",
              "      <td>-1.424524e-03</td>\n",
              "      <td>-3.479564e-03</td>\n",
              "      <td>-1.249238e+00</td>\n",
              "      <td>1.245497e+00</td>\n",
              "      <td>-8.003176e-03</td>\n",
              "      <td>-5.676448e+02</td>\n",
              "      <td>-6.583429e+02</td>\n",
              "      <td>-5.010186e+02</td>\n",
              "      <td>-0.000346</td>\n",
              "      <td>5.428446e-03</td>\n",
              "      <td>-0.000768</td>\n",
              "      <td>1.687986e-02</td>\n",
              "      <td>-1.145142e-02</td>\n",
              "    </tr>\n",
              "    <tr>\n",
              "      <th>longitude</th>\n",
              "      <td>9.323683e+04</td>\n",
              "      <td>1.609596e-01</td>\n",
              "      <td>0.000545</td>\n",
              "      <td>0.001772</td>\n",
              "      <td>-5.451144e-04</td>\n",
              "      <td>2.561100e-03</td>\n",
              "      <td>-1.877560e-03</td>\n",
              "      <td>-4.744244e-02</td>\n",
              "      <td>6.960272e+00</td>\n",
              "      <td>8.662413e-02</td>\n",
              "      <td>1.215964e+03</td>\n",
              "      <td>9.622585e+02</td>\n",
              "      <td>1.366922e+03</td>\n",
              "      <td>-0.000315</td>\n",
              "      <td>7.735238e-03</td>\n",
              "      <td>-0.001025</td>\n",
              "      <td>1.346106e-02</td>\n",
              "      <td>-5.725821e-03</td>\n",
              "    </tr>\n",
              "    <tr>\n",
              "      <th>bedrooms</th>\n",
              "      <td>1.276050e+06</td>\n",
              "      <td>-4.371180e-01</td>\n",
              "      <td>-0.000129</td>\n",
              "      <td>-0.000545</td>\n",
              "      <td>5.644850e-01</td>\n",
              "      <td>2.058616e-01</td>\n",
              "      <td>6.814757e-01</td>\n",
              "      <td>2.009550e+02</td>\n",
              "      <td>-3.079398e+01</td>\n",
              "      <td>-2.151574e+00</td>\n",
              "      <td>1.732094e+04</td>\n",
              "      <td>1.008508e+04</td>\n",
              "      <td>2.854880e+04</td>\n",
              "      <td>0.005829</td>\n",
              "      <td>-6.496338e-02</td>\n",
              "      <td>-0.028208</td>\n",
              "      <td>-4.857790e-02</td>\n",
              "      <td>-1.638548e-02</td>\n",
              "    </tr>\n",
              "    <tr>\n",
              "      <th>bathrooms</th>\n",
              "      <td>3.836301e+06</td>\n",
              "      <td>-8.253896e-01</td>\n",
              "      <td>-0.001425</td>\n",
              "      <td>0.002561</td>\n",
              "      <td>2.058616e-01</td>\n",
              "      <td>5.801356e-01</td>\n",
              "      <td>5.101489e-01</td>\n",
              "      <td>1.965318e+02</td>\n",
              "      <td>-3.940341e+01</td>\n",
              "      <td>4.936142e-01</td>\n",
              "      <td>5.066256e+04</td>\n",
              "      <td>3.523429e+04</td>\n",
              "      <td>6.056392e+04</td>\n",
              "      <td>0.000914</td>\n",
              "      <td>2.403668e-01</td>\n",
              "      <td>-0.023562</td>\n",
              "      <td>3.866227e-01</td>\n",
              "      <td>-1.462558e-01</td>\n",
              "    </tr>\n",
              "    <tr>\n",
              "      <th>rooms</th>\n",
              "      <td>3.358841e+06</td>\n",
              "      <td>-2.533268e-01</td>\n",
              "      <td>-0.003480</td>\n",
              "      <td>-0.001878</td>\n",
              "      <td>6.814757e-01</td>\n",
              "      <td>5.101489e-01</td>\n",
              "      <td>1.885349e+00</td>\n",
              "      <td>4.133368e+02</td>\n",
              "      <td>-3.546689e+02</td>\n",
              "      <td>-9.167129e+00</td>\n",
              "      <td>6.932989e+04</td>\n",
              "      <td>5.076449e+04</td>\n",
              "      <td>9.776502e+04</td>\n",
              "      <td>0.036733</td>\n",
              "      <td>-2.831779e-01</td>\n",
              "      <td>-0.053340</td>\n",
              "      <td>-5.984990e-01</td>\n",
              "      <td>3.153211e-01</td>\n",
              "    </tr>\n",
              "    <tr>\n",
              "      <th>squareFootage</th>\n",
              "      <td>1.883294e+09</td>\n",
              "      <td>-5.154014e+02</td>\n",
              "      <td>-1.249238</td>\n",
              "      <td>-0.047442</td>\n",
              "      <td>2.009550e+02</td>\n",
              "      <td>1.965318e+02</td>\n",
              "      <td>4.133368e+02</td>\n",
              "      <td>1.799083e+05</td>\n",
              "      <td>-5.966342e+04</td>\n",
              "      <td>-2.055101e+03</td>\n",
              "      <td>2.666075e+07</td>\n",
              "      <td>1.841948e+07</td>\n",
              "      <td>3.527654e+07</td>\n",
              "      <td>2.754246</td>\n",
              "      <td>-3.597795e+01</td>\n",
              "      <td>-10.837442</td>\n",
              "      <td>-1.811564e+02</td>\n",
              "      <td>1.451785e+02</td>\n",
              "    </tr>\n",
              "    <tr>\n",
              "      <th>lotSize</th>\n",
              "      <td>-2.699986e+09</td>\n",
              "      <td>-1.342655e+03</td>\n",
              "      <td>1.245497</td>\n",
              "      <td>6.960272</td>\n",
              "      <td>-3.079398e+01</td>\n",
              "      <td>-3.940341e+01</td>\n",
              "      <td>-3.546689e+02</td>\n",
              "      <td>-5.966342e+04</td>\n",
              "      <td>2.870948e+06</td>\n",
              "      <td>2.230244e+04</td>\n",
              "      <td>-2.625523e+07</td>\n",
              "      <td>-1.842423e+07</td>\n",
              "      <td>-2.991348e+07</td>\n",
              "      <td>22.914210</td>\n",
              "      <td>-1.524322e+01</td>\n",
              "      <td>19.921328</td>\n",
              "      <td>4.272451e+02</td>\n",
              "      <td>-4.424883e+02</td>\n",
              "    </tr>\n",
              "    <tr>\n",
              "      <th>yearBuilt</th>\n",
              "      <td>-1.634199e+07</td>\n",
              "      <td>-6.142796e+01</td>\n",
              "      <td>-0.008003</td>\n",
              "      <td>0.086624</td>\n",
              "      <td>-2.151574e+00</td>\n",
              "      <td>4.936142e-01</td>\n",
              "      <td>-9.167129e+00</td>\n",
              "      <td>-2.055101e+03</td>\n",
              "      <td>2.230244e+04</td>\n",
              "      <td>7.420160e+02</td>\n",
              "      <td>-6.920147e+05</td>\n",
              "      <td>-4.221508e+05</td>\n",
              "      <td>-1.010245e+06</td>\n",
              "      <td>-0.122815</td>\n",
              "      <td>3.877373e+00</td>\n",
              "      <td>0.451267</td>\n",
              "      <td>1.072156e+01</td>\n",
              "      <td>-6.844190e+00</td>\n",
              "    </tr>\n",
              "    <tr>\n",
              "      <th>lastSaleAmount</th>\n",
              "      <td>1.722076e+12</td>\n",
              "      <td>7.154451e+04</td>\n",
              "      <td>-567.644807</td>\n",
              "      <td>1215.963557</td>\n",
              "      <td>1.732094e+04</td>\n",
              "      <td>5.066256e+04</td>\n",
              "      <td>6.932989e+04</td>\n",
              "      <td>2.666075e+07</td>\n",
              "      <td>-2.625523e+07</td>\n",
              "      <td>-6.920147e+05</td>\n",
              "      <td>2.232396e+10</td>\n",
              "      <td>1.411250e+10</td>\n",
              "      <td>1.496452e+10</td>\n",
              "      <td>-1234.821931</td>\n",
              "      <td>3.176144e+05</td>\n",
              "      <td>-2464.906640</td>\n",
              "      <td>1.227616e+05</td>\n",
              "      <td>1.948528e+05</td>\n",
              "    </tr>\n",
              "    <tr>\n",
              "      <th>priorSaleAmount</th>\n",
              "      <td>9.258050e+10</td>\n",
              "      <td>-9.349284e+03</td>\n",
              "      <td>-658.342858</td>\n",
              "      <td>962.258453</td>\n",
              "      <td>1.008508e+04</td>\n",
              "      <td>3.523429e+04</td>\n",
              "      <td>5.076449e+04</td>\n",
              "      <td>1.841948e+07</td>\n",
              "      <td>-1.842423e+07</td>\n",
              "      <td>-4.221508e+05</td>\n",
              "      <td>1.411250e+10</td>\n",
              "      <td>2.445379e+10</td>\n",
              "      <td>1.144313e+10</td>\n",
              "      <td>-758.186985</td>\n",
              "      <td>1.223085e+05</td>\n",
              "      <td>-5612.228300</td>\n",
              "      <td>1.722126e+05</td>\n",
              "      <td>-4.990405e+04</td>\n",
              "    </tr>\n",
              "    <tr>\n",
              "      <th>estimated_value</th>\n",
              "      <td>9.080904e+11</td>\n",
              "      <td>1.302661e+05</td>\n",
              "      <td>-501.018586</td>\n",
              "      <td>1366.922071</td>\n",
              "      <td>2.854880e+04</td>\n",
              "      <td>6.056392e+04</td>\n",
              "      <td>9.776502e+04</td>\n",
              "      <td>3.527654e+07</td>\n",
              "      <td>-2.991348e+07</td>\n",
              "      <td>-1.010245e+06</td>\n",
              "      <td>1.496452e+10</td>\n",
              "      <td>1.144313e+10</td>\n",
              "      <td>1.838596e+10</td>\n",
              "      <td>-344.517043</td>\n",
              "      <td>2.107195e+04</td>\n",
              "      <td>-2105.467989</td>\n",
              "      <td>-3.133407e+04</td>\n",
              "      <td>5.240602e+04</td>\n",
              "    </tr>\n",
              "    <tr>\n",
              "      <th>weekday_lastSaleDate</th>\n",
              "      <td>-2.459872e+05</td>\n",
              "      <td>-5.484321e-02</td>\n",
              "      <td>-0.000346</td>\n",
              "      <td>-0.000315</td>\n",
              "      <td>5.828715e-03</td>\n",
              "      <td>9.143137e-04</td>\n",
              "      <td>3.673306e-02</td>\n",
              "      <td>2.754246e+00</td>\n",
              "      <td>2.291421e+01</td>\n",
              "      <td>-1.228150e-01</td>\n",
              "      <td>-1.234822e+03</td>\n",
              "      <td>-7.581870e+02</td>\n",
              "      <td>-3.445170e+02</td>\n",
              "      <td>2.049702</td>\n",
              "      <td>-2.058120e-01</td>\n",
              "      <td>0.017423</td>\n",
              "      <td>-1.904922e-01</td>\n",
              "      <td>-1.531978e-02</td>\n",
              "    </tr>\n",
              "    <tr>\n",
              "      <th>year_lastSaleDate</th>\n",
              "      <td>5.190845e+07</td>\n",
              "      <td>1.313042e+00</td>\n",
              "      <td>0.005428</td>\n",
              "      <td>0.007735</td>\n",
              "      <td>-6.496338e-02</td>\n",
              "      <td>2.403668e-01</td>\n",
              "      <td>-2.831779e-01</td>\n",
              "      <td>-3.597795e+01</td>\n",
              "      <td>-1.524322e+01</td>\n",
              "      <td>3.877373e+00</td>\n",
              "      <td>3.176144e+05</td>\n",
              "      <td>1.223085e+05</td>\n",
              "      <td>2.107195e+04</td>\n",
              "      <td>-0.205812</td>\n",
              "      <td>1.996956e+01</td>\n",
              "      <td>0.030711</td>\n",
              "      <td>1.001389e+01</td>\n",
              "      <td>9.955678e+00</td>\n",
              "    </tr>\n",
              "    <tr>\n",
              "      <th>weekday_priorSaleDate</th>\n",
              "      <td>9.947108e+05</td>\n",
              "      <td>-3.023626e-01</td>\n",
              "      <td>-0.000768</td>\n",
              "      <td>-0.001025</td>\n",
              "      <td>-2.820777e-02</td>\n",
              "      <td>-2.356231e-02</td>\n",
              "      <td>-5.334010e-02</td>\n",
              "      <td>-1.083744e+01</td>\n",
              "      <td>1.992133e+01</td>\n",
              "      <td>4.512666e-01</td>\n",
              "      <td>-2.464907e+03</td>\n",
              "      <td>-5.612228e+03</td>\n",
              "      <td>-2.105468e+03</td>\n",
              "      <td>0.017423</td>\n",
              "      <td>3.071146e-02</td>\n",
              "      <td>2.144376</td>\n",
              "      <td>-6.453785e-01</td>\n",
              "      <td>6.760900e-01</td>\n",
              "    </tr>\n",
              "    <tr>\n",
              "      <th>year_priorSaleDate</th>\n",
              "      <td>-1.330764e+07</td>\n",
              "      <td>2.216033e+00</td>\n",
              "      <td>0.016880</td>\n",
              "      <td>0.013461</td>\n",
              "      <td>-4.857790e-02</td>\n",
              "      <td>3.866227e-01</td>\n",
              "      <td>-5.984990e-01</td>\n",
              "      <td>-1.811564e+02</td>\n",
              "      <td>4.272451e+02</td>\n",
              "      <td>1.072156e+01</td>\n",
              "      <td>1.227616e+05</td>\n",
              "      <td>1.722126e+05</td>\n",
              "      <td>-3.133407e+04</td>\n",
              "      <td>-0.190492</td>\n",
              "      <td>1.001389e+01</td>\n",
              "      <td>-0.645379</td>\n",
              "      <td>3.849971e+01</td>\n",
              "      <td>-2.848582e+01</td>\n",
              "    </tr>\n",
              "    <tr>\n",
              "      <th>year_between_last_sales</th>\n",
              "      <td>6.521609e+07</td>\n",
              "      <td>-9.029912e-01</td>\n",
              "      <td>-0.011451</td>\n",
              "      <td>-0.005726</td>\n",
              "      <td>-1.638548e-02</td>\n",
              "      <td>-1.462558e-01</td>\n",
              "      <td>3.153211e-01</td>\n",
              "      <td>1.451785e+02</td>\n",
              "      <td>-4.424883e+02</td>\n",
              "      <td>-6.844190e+00</td>\n",
              "      <td>1.948528e+05</td>\n",
              "      <td>-4.990405e+04</td>\n",
              "      <td>5.240602e+04</td>\n",
              "      <td>-0.015320</td>\n",
              "      <td>9.955678e+00</td>\n",
              "      <td>0.676090</td>\n",
              "      <td>-2.848582e+01</td>\n",
              "      <td>3.844150e+01</td>\n",
              "    </tr>\n",
              "  </tbody>\n",
              "</table>\n",
              "</div>\n",
              "      <button class=\"colab-df-convert\" onclick=\"convertToInteractive('df-d1c08eab-b525-433f-9544-b13133d5fb19')\"\n",
              "              title=\"Convert this dataframe to an interactive table.\"\n",
              "              style=\"display:none;\">\n",
              "        \n",
              "  <svg xmlns=\"http://www.w3.org/2000/svg\" height=\"24px\"viewBox=\"0 0 24 24\"\n",
              "       width=\"24px\">\n",
              "    <path d=\"M0 0h24v24H0V0z\" fill=\"none\"/>\n",
              "    <path d=\"M18.56 5.44l.94 2.06.94-2.06 2.06-.94-2.06-.94-.94-2.06-.94 2.06-2.06.94zm-11 1L8.5 8.5l.94-2.06 2.06-.94-2.06-.94L8.5 2.5l-.94 2.06-2.06.94zm10 10l.94 2.06.94-2.06 2.06-.94-2.06-.94-.94-2.06-.94 2.06-2.06.94z\"/><path d=\"M17.41 7.96l-1.37-1.37c-.4-.4-.92-.59-1.43-.59-.52 0-1.04.2-1.43.59L10.3 9.45l-7.72 7.72c-.78.78-.78 2.05 0 2.83L4 21.41c.39.39.9.59 1.41.59.51 0 1.02-.2 1.41-.59l7.78-7.78 2.81-2.81c.8-.78.8-2.07 0-2.86zM5.41 20L4 18.59l7.72-7.72 1.47 1.35L5.41 20z\"/>\n",
              "  </svg>\n",
              "      </button>\n",
              "      \n",
              "  <style>\n",
              "    .colab-df-container {\n",
              "      display:flex;\n",
              "      flex-wrap:wrap;\n",
              "      gap: 12px;\n",
              "    }\n",
              "\n",
              "    .colab-df-convert {\n",
              "      background-color: #E8F0FE;\n",
              "      border: none;\n",
              "      border-radius: 50%;\n",
              "      cursor: pointer;\n",
              "      display: none;\n",
              "      fill: #1967D2;\n",
              "      height: 32px;\n",
              "      padding: 0 0 0 0;\n",
              "      width: 32px;\n",
              "    }\n",
              "\n",
              "    .colab-df-convert:hover {\n",
              "      background-color: #E2EBFA;\n",
              "      box-shadow: 0px 1px 2px rgba(60, 64, 67, 0.3), 0px 1px 3px 1px rgba(60, 64, 67, 0.15);\n",
              "      fill: #174EA6;\n",
              "    }\n",
              "\n",
              "    [theme=dark] .colab-df-convert {\n",
              "      background-color: #3B4455;\n",
              "      fill: #D2E3FC;\n",
              "    }\n",
              "\n",
              "    [theme=dark] .colab-df-convert:hover {\n",
              "      background-color: #434B5C;\n",
              "      box-shadow: 0px 1px 3px 1px rgba(0, 0, 0, 0.15);\n",
              "      filter: drop-shadow(0px 1px 2px rgba(0, 0, 0, 0.3));\n",
              "      fill: #FFFFFF;\n",
              "    }\n",
              "  </style>\n",
              "\n",
              "      <script>\n",
              "        const buttonEl =\n",
              "          document.querySelector('#df-d1c08eab-b525-433f-9544-b13133d5fb19 button.colab-df-convert');\n",
              "        buttonEl.style.display =\n",
              "          google.colab.kernel.accessAllowed ? 'block' : 'none';\n",
              "\n",
              "        async function convertToInteractive(key) {\n",
              "          const element = document.querySelector('#df-d1c08eab-b525-433f-9544-b13133d5fb19');\n",
              "          const dataTable =\n",
              "            await google.colab.kernel.invokeFunction('convertToInteractive',\n",
              "                                                     [key], {});\n",
              "          if (!dataTable) return;\n",
              "\n",
              "          const docLinkHtml = 'Like what you see? Visit the ' +\n",
              "            '<a target=\"_blank\" href=https://colab.research.google.com/notebooks/data_table.ipynb>data table notebook</a>'\n",
              "            + ' to learn more about interactive tables.';\n",
              "          element.innerHTML = '';\n",
              "          dataTable['output_type'] = 'display_data';\n",
              "          await google.colab.output.renderOutput(dataTable, element);\n",
              "          const docLink = document.createElement('div');\n",
              "          docLink.innerHTML = docLinkHtml;\n",
              "          element.appendChild(docLink);\n",
              "        }\n",
              "      </script>\n",
              "    </div>\n",
              "  </div>\n",
              "  "
            ],
            "text/plain": [
              "                                   id  ...  year_between_last_sales\n",
              "id                       2.959910e+15  ...             6.521609e+07\n",
              "zipcode                 -8.705458e+06  ...            -9.029912e-01\n",
              "latitude                -4.775213e+04  ...            -1.145142e-02\n",
              "longitude                9.323683e+04  ...            -5.725821e-03\n",
              "bedrooms                 1.276050e+06  ...            -1.638548e-02\n",
              "bathrooms                3.836301e+06  ...            -1.462558e-01\n",
              "rooms                    3.358841e+06  ...             3.153211e-01\n",
              "squareFootage            1.883294e+09  ...             1.451785e+02\n",
              "lotSize                 -2.699986e+09  ...            -4.424883e+02\n",
              "yearBuilt               -1.634199e+07  ...            -6.844190e+00\n",
              "lastSaleAmount           1.722076e+12  ...             1.948528e+05\n",
              "priorSaleAmount          9.258050e+10  ...            -4.990405e+04\n",
              "estimated_value          9.080904e+11  ...             5.240602e+04\n",
              "weekday_lastSaleDate    -2.459872e+05  ...            -1.531978e-02\n",
              "year_lastSaleDate        5.190845e+07  ...             9.955678e+00\n",
              "weekday_priorSaleDate    9.947108e+05  ...             6.760900e-01\n",
              "year_priorSaleDate      -1.330764e+07  ...            -2.848582e+01\n",
              "year_between_last_sales  6.521609e+07  ...             3.844150e+01\n",
              "\n",
              "[18 rows x 18 columns]"
            ]
          },
          "metadata": {},
          "execution_count": 50
        }
      ]
    },
    {
      "cell_type": "code",
      "source": [
        "y=df.estimated_value\n",
        "X.columns"
      ],
      "metadata": {
        "colab": {
          "base_uri": "https://localhost:8080/"
        },
        "id": "mK6hNk6-Klk9",
        "outputId": "abc5db19-d20c-4e24-bc7c-8f49309b3308"
      },
      "execution_count": 51,
      "outputs": [
        {
          "output_type": "execute_result",
          "data": {
            "text/plain": [
              "Index(['bedrooms', 'bathrooms', 'rooms', 'squareFootage', 'lotSize',\n",
              "       'yearBuilt', 'priorSaleAmount'],\n",
              "      dtype='object')"
            ]
          },
          "metadata": {},
          "execution_count": 51
        }
      ]
    },
    {
      "cell_type": "code",
      "source": [
        "for i in X.columns:\n",
        "  print  ('====')\n",
        "  print (i)\n",
        "  X.loc[:, i].hist()\n",
        "  print ('mean:' ,  X.loc[:, i].mean())\n",
        "  print ('std:' ,  X.loc[:, i].std())\n",
        "  plt.show()"
      ],
      "metadata": {
        "colab": {
          "base_uri": "https://localhost:8080/",
          "height": 0
        },
        "id": "4l3HPicNKwp0",
        "outputId": "ce8f37ba-932d-4c3b-d9e2-9fafa306e7e6"
      },
      "execution_count": 52,
      "outputs": [
        {
          "output_type": "stream",
          "name": "stdout",
          "text": [
            "====\n",
            "bedrooms\n",
            "mean: 2.542766964755392\n",
            "std: 0.751322153127849\n"
          ]
        },
        {
          "output_type": "display_data",
          "data": {
            "image/png": "[encoded data removed]",
            "text/plain": [
              "<Figure size 432x288 with 1 Axes>"
            ]
          },
          "metadata": {
            "needs_background": "light"
          }
        },
        {
          "output_type": "stream",
          "name": "stdout",
          "text": [
            "====\n",
            "bathrooms\n",
            "mean: 1.8935823250920567\n",
            "std: 0.761666315910045\n"
          ]
        },
        {
          "output_type": "display_data",
          "data": {
            "image/png": "[encoded data removed]",
            "text/plain": [
              "<Figure size 432x288 with 1 Axes>"
            ]
          },
          "metadata": {
            "needs_background": "light"
          }
        },
        {
          "output_type": "stream",
          "name": "stdout",
          "text": [
            "====\n",
            "rooms\n",
            "mean: 5.669752761704366\n",
            "std: 1.3730800001319907\n"
          ]
        },
        {
          "output_type": "display_data",
          "data": {
            "image/png": "[encoded data removed]",
            "text/plain": [
              "<Figure size 432x288 with 1 Axes>"
            ]
          },
          "metadata": {
            "needs_background": "light"
          }
        },
        {
          "output_type": "stream",
          "name": "stdout",
          "text": [
            "====\n",
            "squareFootage\n",
            "mean: 1246.7093108890058\n",
            "std: 424.15602125738934\n"
          ]
        },
        {
          "output_type": "display_data",
          "data": {
            "image/png": "[encoded data removed]",
            "text/plain": [
              "<Figure size 432x288 with 1 Axes>"
            ]
          },
          "metadata": {
            "needs_background": "light"
          }
        },
        {
          "output_type": "stream",
          "name": "stdout",
          "text": [
            "====\n",
            "lotSize\n",
            "mean: 5429.276801683324\n",
            "std: 1694.3870776450287\n"
          ]
        },
        {
          "output_type": "display_data",
          "data": {
            "image/png": "[encoded data removed]",
            "text/plain": [
              "<Figure size 432x288 with 1 Axes>"
            ]
          },
          "metadata": {
            "needs_background": "light"
          }
        },
        {
          "output_type": "stream",
          "name": "stdout",
          "text": [
            "====\n",
            "yearBuilt\n",
            "mean: 1927.131248518444\n",
            "std: 27.23996973788474\n"
          ]
        },
        {
          "output_type": "display_data",
          "data": {
            "image/png": "[encoded data removed]",
            "text/plain": [
              "<Figure size 432x288 with 1 Axes>"
            ]
          },
          "metadata": {
            "needs_background": "light"
          }
        },
        {
          "output_type": "stream",
          "name": "stdout",
          "text": [
            "====\n",
            "priorSaleAmount\n",
            "mean: 202308.29733195703\n",
            "std: 156377.08328884476\n"
          ]
        },
        {
          "output_type": "display_data",
          "data": {
            "image/png": "[encoded data removed]",
            "text/plain": [
              "<Figure size 432x288 with 1 Axes>"
            ]
          },
          "metadata": {
            "needs_background": "light"
          }
        }
      ]
    }
  ]
}